{
 "cells": [
  {
   "cell_type": "code",
   "execution_count": 2,
   "metadata": {
    "colab": {
     "base_uri": "https://localhost:8080/",
     "height": 215
    },
    "colab_type": "code",
    "id": "Bu4Sy-Fxyivq",
    "outputId": "586c1185-880c-4e69-bb2c-b0da60de042f"
   },
   "outputs": [
    {
     "name": "stdout",
     "output_type": "stream",
     "text": [
      "--2019-01-04 03:03:48--  http://4ce34574.ngrok.io/dataset.zip\n",
      "Resolving 4ce34574.ngrok.io (4ce34574.ngrok.io)... 52.15.183.149, 2600:1f16:59e:b200:680c:4438:abfa:fc7a\n",
      "Connecting to 4ce34574.ngrok.io (4ce34574.ngrok.io)|52.15.183.149|:80... connected.\n",
      "HTTP request sent, awaiting response... 200 OK\n",
      "Length: 62188368 (59M) [application/zip]\n",
      "Saving to: ‘dataset.zip’\n",
      "\n",
      "dataset.zip         100%[===================>]  59.31M   545KB/s    in 69s     \n",
      "\n",
      "2019-01-04 03:04:58 (879 KB/s) - ‘dataset.zip’ saved [62188368/62188368]\n",
      "\n"
     ]
    }
   ],
   "source": [
    "!wget http://4ce34574.ngrok.io/dataset.zip"
   ]
  },
  {
   "cell_type": "code",
   "execution_count": 0,
   "metadata": {
    "colab": {},
    "colab_type": "code",
    "id": "FUl1Fr8UzHkX"
   },
   "outputs": [],
   "source": [
    "!unzip dataset.zip"
   ]
  },
  {
   "cell_type": "code",
   "execution_count": 4,
   "metadata": {
    "colab": {
     "base_uri": "https://localhost:8080/",
     "height": 35
    },
    "colab_type": "code",
    "id": "AKWbSqKLzdwZ",
    "outputId": "8a5043d9-5b3e-4768-bc9c-71c237ecaac7"
   },
   "outputs": [
    {
     "name": "stdout",
     "output_type": "stream",
     "text": [
      "\u001b[0m\u001b[01;34mdataset\u001b[0m/  dataset.zip  \u001b[01;34msample_data\u001b[0m/\n"
     ]
    }
   ],
   "source": [
    "ls"
   ]
  },
  {
   "cell_type": "code",
   "execution_count": 1,
   "metadata": {
    "ExecuteTime": {
     "end_time": "2019-01-05T05:35:52.659653Z",
     "start_time": "2019-01-05T05:35:51.350821Z"
    },
    "colab": {
     "base_uri": "https://localhost:8080/",
     "height": 35
    },
    "colab_type": "code",
    "id": "ghtWY2h0zizZ",
    "outputId": "bd0db8a5-89aa-4237-f4d5-b5b7006fca94"
   },
   "outputs": [
    {
     "name": "stderr",
     "output_type": "stream",
     "text": [
      "/home/praneet/envs/deeplearning/lib/python3.5/site-packages/h5py/__init__.py:36: FutureWarning: Conversion of the second argument of issubdtype from `float` to `np.floating` is deprecated. In future, it will be treated as `np.float64 == np.dtype(float).type`.\n",
      "  from ._conv import register_converters as _register_converters\n",
      "Using TensorFlow backend.\n"
     ]
    }
   ],
   "source": [
    "import numpy as np\n",
    "import tensorflow as tf\n",
    "import cv2\n",
    "import os\n",
    "import matplotlib.pyplot as plt\n",
    "\n",
    "import keras\n",
    "\n",
    "from keras.models import Sequential\n",
    "from keras.layers import Dense, Flatten, Conv2D, MaxPooling2D, Dropout\n",
    "from keras.utils import to_categorical\n",
    "from keras.optimizers import SGD, RMSprop, adadelta, Adam\n",
    "\n",
    "from keras.preprocessing.image import ImageDataGenerator\n",
    "from keras.callbacks import ModelCheckpoint\n",
    "import math\n",
    "import cv2\n",
    "from keras import backend as K\n",
    "from keras.applications import vgg16"
   ]
  },
  {
   "cell_type": "code",
   "execution_count": 2,
   "metadata": {
    "ExecuteTime": {
     "end_time": "2019-01-05T05:35:53.781568Z",
     "start_time": "2019-01-05T05:35:53.772168Z"
    },
    "colab": {},
    "colab_type": "code",
    "id": "h7s4RM610teP"
   },
   "outputs": [],
   "source": [
    "img_rows = 128\n",
    "img_cols = 128\n",
    "num_channels = 3\n",
    "epochs = 5\n",
    "num_classes = 3"
   ]
  },
  {
   "cell_type": "code",
   "execution_count": 3,
   "metadata": {
    "ExecuteTime": {
     "end_time": "2019-01-05T05:35:54.538783Z",
     "start_time": "2019-01-05T05:35:54.335696Z"
    },
    "colab": {
     "base_uri": "https://localhost:8080/",
     "height": 431
    },
    "colab_type": "code",
    "id": "y5EA7jfm1BIK",
    "outputId": "5f2413d0-344f-4bb5-8374-b413df34c472"
   },
   "outputs": [
    {
     "name": "stdout",
     "output_type": "stream",
     "text": [
      "_________________________________________________________________\n",
      "Layer (type)                 Output Shape              Param #   \n",
      "=================================================================\n",
      "conv2d_1 (Conv2D)            (None, 126, 126, 32)      896       \n",
      "_________________________________________________________________\n",
      "max_pooling2d_1 (MaxPooling2 (None, 63, 63, 32)        0         \n",
      "_________________________________________________________________\n",
      "conv2d_2 (Conv2D)            (None, 61, 61, 64)        18496     \n",
      "_________________________________________________________________\n",
      "max_pooling2d_2 (MaxPooling2 (None, 30, 30, 64)        0         \n",
      "_________________________________________________________________\n",
      "conv2d_3 (Conv2D)            (None, 28, 28, 128)       73856     \n",
      "_________________________________________________________________\n",
      "flatten_1 (Flatten)          (None, 100352)            0         \n",
      "_________________________________________________________________\n",
      "dense_1 (Dense)              (None, 312)               31310136  \n",
      "_________________________________________________________________\n",
      "dense_2 (Dense)              (None, 3)                 939       \n",
      "=================================================================\n",
      "Total params: 31,404,323\n",
      "Trainable params: 31,404,323\n",
      "Non-trainable params: 0\n",
      "_________________________________________________________________\n"
     ]
    }
   ],
   "source": [
    "model = Sequential()\n",
    "model.add(Conv2D(32, (3, 3), strides=(1, 1),\n",
    "                 activation='relu', input_shape=(img_rows, img_cols, num_channels)))\n",
    "model.add(MaxPooling2D(pool_size=(2, 2)))\n",
    "#model.add(Dropout(0.5))\n",
    "model.add(Conv2D(64, (3, 3), strides=(1, 1), activation='relu'))\n",
    "model.add(MaxPooling2D(pool_size=(2, 2)))\n",
    "#model.add(Dropout(0.5))\n",
    "model.add(Conv2D(128, (3, 3), activation='relu'))\n",
    "#model.add(Dropout(0.5))\n",
    "model.add(Flatten())\n",
    "model.add(Dense(312, activation='relu'))\n",
    "#model.add(Dropout(0.3))\n",
    "model.add(Dense(num_classes, activation='softmax'))\n",
    "model.compile(loss='categorical_crossentropy',\n",
    "              optimizer='adam', metrics=['accuracy'])\n",
    "model.summary()"
   ]
  },
  {
   "cell_type": "code",
   "execution_count": 4,
   "metadata": {
    "ExecuteTime": {
     "end_time": "2019-01-05T05:35:55.188480Z",
     "start_time": "2019-01-05T05:35:54.738148Z"
    },
    "colab": {
     "base_uri": "https://localhost:8080/",
     "height": 53
    },
    "colab_type": "code",
    "id": "ByOAgP6D1ut7",
    "outputId": "cfcebe01-a3d2-4e65-ee94-4fb176b4cb63"
   },
   "outputs": [
    {
     "name": "stdout",
     "output_type": "stream",
     "text": [
      "Found 4500 images belonging to 3 classes.\n",
      "Found 2152 images belonging to 3 classes.\n"
     ]
    }
   ],
   "source": [
    "train_datagen = ImageDataGenerator(\n",
    "        rescale=1./255,\n",
    "        featurewise_center=False,  # set input mean to 0 over the dataset\n",
    "        samplewise_center=False,  # set each sample mean to 0\n",
    "        shear_range=0.4,\n",
    "        zoom_range=0.5,\n",
    "        featurewise_std_normalization=False,  # divide inputs by std of the dataset\n",
    "        samplewise_std_normalization=False,  # divide each input by its std\n",
    "        zca_whitening=False,  # apply ZCA whitening\n",
    "        # randomly rotate images in the range (degrees, 0 to 180)\n",
    "        rotation_range=180,\n",
    "        # randomly shift images horizontally (fraction of total width)\n",
    "        width_shift_range=0.4,\n",
    "        # randomly shift images vertically (fraction of total height)\n",
    "        height_shift_range=0.4,\n",
    "        horizontal_flip=True,  # randomly flip images\n",
    "        vertical_flip=True)  # randomly flip images\n",
    "\n",
    "test_datagen = ImageDataGenerator(\n",
    "        rescale=1./255,\n",
    "        featurewise_center=False,  # set input mean to 0 over the dataset\n",
    "        samplewise_center=False,  # set each sample mean to 0\n",
    "        shear_range=0.4,\n",
    "        zoom_range=0.5,\n",
    "        featurewise_std_normalization=False,  # divide inputs by std of the dataset\n",
    "        samplewise_std_normalization=False,  # divide each input by its std\n",
    "        zca_whitening=False,  # apply ZCA whitening\n",
    "        # randomly rotate images in the range (degrees, 0 to 180)\n",
    "        rotation_range=180,\n",
    "        # randomly shift images horizontally (fraction of total width)\n",
    "        width_shift_range=0.4,\n",
    "        # randomly shift images vertically (fraction of total height)\n",
    "        height_shift_range=0.4,\n",
    "        horizontal_flip=True,  # randomly flip images\n",
    "        vertical_flip=True)  # randomly flip images\n",
    "\n",
    "train_generator = train_datagen.flow_from_directory(\n",
    "        'dataset/train',\n",
    "        target_size=(img_rows, img_cols),\n",
    "        color_mode=\"rgb\",\n",
    "        batch_size=32,\n",
    "        class_mode=\"categorical\",\n",
    "        shuffle=True,)\n",
    "\n",
    "test_generator = test_datagen.flow_from_directory(\n",
    "        'dataset/test',\n",
    "        target_size=(img_rows, img_cols),\n",
    "        color_mode=\"rgb\",\n",
    "        batch_size=32,\n",
    "        class_mode=\"categorical\",\n",
    "        shuffle=True,)"
   ]
  },
  {
   "cell_type": "code",
   "execution_count": 5,
   "metadata": {
    "ExecuteTime": {
     "end_time": "2019-01-05T05:35:55.242358Z",
     "start_time": "2019-01-05T05:35:55.238010Z"
    },
    "colab": {},
    "colab_type": "code",
    "id": "Vin3Cu_j3ldU"
   },
   "outputs": [],
   "source": [
    "augmented_checkpoint = ModelCheckpoint('augmented_best_model.hdf5',  # model filename\n",
    "                                       monitor='val_loss',  # quantity to monitor\n",
    "                                       verbose=1,  # verbosity - 0 or 1\n",
    "                                       save_best_only=True,  # The latest best model will not be overwritten\n",
    "                                       mode='auto')  # The decision to overwrite model is made\n",
    "# automatically depending on the quantity to monitor"
   ]
  },
  {
   "cell_type": "code",
   "execution_count": 6,
   "metadata": {
    "ExecuteTime": {
     "end_time": "2019-01-05T05:35:55.638880Z",
     "start_time": "2019-01-05T05:35:55.565102Z"
    },
    "colab": {},
    "colab_type": "code",
    "id": "jyek35TM4C2A"
   },
   "outputs": [],
   "source": [
    "model.compile(loss=keras.losses.categorical_crossentropy,  # Better loss function for neural networks\n",
    "              optimizer=keras.optimizers.Adam(),  # Adam optimizer with 1.0e-4 learning rate\n",
    "              metrics=['accuracy'])  # Metrics to be evaluated by the model"
   ]
  },
  {
   "cell_type": "code",
   "execution_count": 7,
   "metadata": {
    "ExecuteTime": {
     "end_time": "2019-01-05T05:45:06.232265Z",
     "start_time": "2019-01-05T05:35:56.682372Z"
    },
    "colab": {
     "base_uri": "https://localhost:8080/",
     "height": 1164
    },
    "colab_type": "code",
    "id": "2k0ML2ly4HVK",
    "outputId": "6ba039fd-323e-424c-c98e-ce3f1a166c50",
    "scrolled": false
   },
   "outputs": [
    {
     "name": "stdout",
     "output_type": "stream",
     "text": [
      "Epoch 1/5\n",
      "128/128 [==============================] - 126s 985ms/step - loss: 1.1017 - acc: 0.4275 - val_loss: 1.2621 - val_acc: 0.3779\n",
      "\n",
      "Epoch 00001: val_loss improved from inf to 1.26206, saving model to augmented_best_model.hdf5\n",
      "Epoch 2/5\n",
      "128/128 [==============================] - 105s 820ms/step - loss: 1.0516 - acc: 0.4470 - val_loss: 1.2683 - val_acc: 0.2564\n",
      "\n",
      "Epoch 00002: val_loss did not improve from 1.26206\n",
      "Epoch 3/5\n",
      "128/128 [==============================] - 107s 838ms/step - loss: 1.0261 - acc: 0.4723 - val_loss: 1.2071 - val_acc: 0.2673\n",
      "\n",
      "Epoch 00003: val_loss improved from 1.26206 to 1.20711, saving model to augmented_best_model.hdf5\n",
      "Epoch 4/5\n",
      "128/128 [==============================] - 103s 808ms/step - loss: 1.0302 - acc: 0.4659 - val_loss: 1.4021 - val_acc: 0.2283\n",
      "\n",
      "Epoch 00004: val_loss did not improve from 1.20711\n",
      "Epoch 5/5\n",
      "128/128 [==============================] - 103s 806ms/step - loss: 1.0111 - acc: 0.4877 - val_loss: 1.3575 - val_acc: 0.1680\n",
      "\n",
      "Epoch 00005: val_loss did not improve from 1.20711\n"
     ]
    },
    {
     "data": {
      "text/plain": [
       "<keras.callbacks.History at 0x7f324bae8160>"
      ]
     },
     "execution_count": 7,
     "metadata": {},
     "output_type": "execute_result"
    }
   ],
   "source": [
    "model.fit_generator(generator=train_generator,\n",
    "                    validation_data=test_generator,\n",
    "                    epochs=epochs,\n",
    "                    callbacks=[augmented_checkpoint],\n",
    "                    verbose=1,\n",
    "                    steps_per_epoch=128,\n",
    "                    validation_steps=64,\n",
    ")"
   ]
  },
  {
   "cell_type": "code",
   "execution_count": 10,
   "metadata": {
    "ExecuteTime": {
     "end_time": "2019-01-05T05:50:27.947129Z",
     "start_time": "2019-01-05T05:50:27.701295Z"
    }
   },
   "outputs": [],
   "source": [
    "image = cv2.imread('dataset/train/Early_blight/0114f7b3-7f56-4bef-aa47-7a82da142d4b___RS_Erly.B 7437_final_masked.jpg')\n",
    "\n",
    "image = image[np.newaxis,...]"
   ]
  },
  {
   "cell_type": "code",
   "execution_count": 8,
   "metadata": {
    "ExecuteTime": {
     "end_time": "2019-01-05T05:46:58.480867Z",
     "start_time": "2019-01-05T05:46:58.467915Z"
    }
   },
   "outputs": [],
   "source": [
    "def read_layer(model, x, layer_name):\n",
    "    \"\"\"Return the activation values for the specifid layer\"\"\"\n",
    "    # Create Keras function to read the output of a specific layer\n",
    "    get_layer_output = K.function([model.layers[0].input], [model.get_layer(layer_name).output])\n",
    "    outputs = get_layer_output([x])[0]\n",
    "    tensor_summary(outputs)\n",
    "    return outputs[0]\n",
    "    \n",
    "def view_layer(model, x, layer_name, cols=5):\n",
    "    outputs = read_layer(model, x, layer_name)\n",
    "    display_images([outputs[:,:,i] for i in range(10)], cols=cols)\n",
    "\n",
    "def tensor_summary(tensor):\n",
    "    \"\"\"Display shape, min, and max values of a tensor.\"\"\"\n",
    "    print(\"shape: {}  min: {}  max: {}\".format(tensor.shape, tensor.min(), tensor.max()))\n",
    "\n",
    "    \n",
    "def normalize(image):\n",
    "    \"\"\"Takes a tensor of 3 dimensions (height, width, colors) and normalizes it's values\n",
    "    to be between 0 and 1 so it's suitable for displaying as an image.\"\"\"\n",
    "    image = image.astype(np.float32)\n",
    "    return (image - image.min()) / (image.max() - image.min() + 1e-5)\n",
    "\n",
    "\n",
    "def display_images(images, titles=None, cols=5, interpolation=None, cmap=\"Greys_r\"):\n",
    "    \"\"\"\n",
    "    images: A list of images. I can be either:\n",
    "        - A list of Numpy arrays. Each array represents an image.\n",
    "        - A list of lists of Numpy arrays. In this case, the images in\n",
    "          the inner lists are concatentated to make one image.\n",
    "    \"\"\"\n",
    "    titles = titles or [\"\"] * len(images)\n",
    "    rows = math.ceil(len(images) / cols)\n",
    "    height_ratio = 1.2 * (rows/cols) * (0.5 if type(images[0]) is not np.ndarray else 1)\n",
    "    plt.figure(figsize=(15, 15 * height_ratio))\n",
    "    i = 1\n",
    "    for image, title in zip(images, titles):\n",
    "        plt.subplot(rows, cols, i)\n",
    "        plt.axis(\"off\")\n",
    "        # Is image a list? If so, merge them into one image.\n",
    "        if type(image) is not np.ndarray:\n",
    "            image = [normalize(g) for g in image]\n",
    "            image = np.concatenate(image, axis=1)\n",
    "        else:\n",
    "            image = normalize(image)\n",
    "        plt.title(title, fontsize=9)\n",
    "        plt.imshow(image, cmap=cmap, interpolation=interpolation)\n",
    "        i += 1"
   ]
  },
  {
   "cell_type": "code",
   "execution_count": 23,
   "metadata": {
    "ExecuteTime": {
     "end_time": "2019-01-05T05:59:04.769041Z",
     "start_time": "2019-01-05T05:59:04.078104Z"
    }
   },
   "outputs": [
    {
     "name": "stdout",
     "output_type": "stream",
     "text": [
      "shape: (1, 125, 125, 64)  min: 0.0  max: 169.07644653320312\n"
     ]
    },
    {
     "data": {
      "image/png": "[encoded data removed]",
      "text/plain": [
       "<Figure size 1080x518.4 with 10 Axes>"
      ]
     },
     "metadata": {},
     "output_type": "display_data"
    }
   ],
   "source": [
    "view_layer(model, image, \"conv2d_2\")"
   ]
  },
  {
   "cell_type": "code",
   "execution_count": null,
   "metadata": {},
   "outputs": [],
   "source": []
  }
 ],
 "metadata": {
  "accelerator": "TPU",
  "colab": {
   "name": "Plant_Monitoring.ipynb",
   "provenance": [],
   "version": "0.3.2"
  },
  "kernelspec": {
   "display_name": "Python 3",
   "language": "python",
   "name": "python3"
  },
  "language_info": {
   "codemirror_mode": {
    "name": "ipython",
    "version": 3
   },
   "file_extension": ".py",
   "mimetype": "text/x-python",
   "name": "python",
   "nbconvert_exporter": "python",
   "pygments_lexer": "ipython3",
   "version": "3.5.2"
  },
  "varInspector": {
   "cols": {
    "lenName": 16,
    "lenType": 16,
    "lenVar": 40
   },
   "kernels_config": {
    "python": {
     "delete_cmd_postfix": "",
     "delete_cmd_prefix": "del ",
     "library": "var_list.py",
     "varRefreshCmd": "print(var_dic_list())"
    },
    "r": {
     "delete_cmd_postfix": ") ",
     "delete_cmd_prefix": "rm(",
     "library": "var_list.r",
     "varRefreshCmd": "cat(var_dic_list()) "
    }
   },
   "types_to_exclude": [
    "module",
    "function",
    "builtin_function_or_method",
    "instance",
    "_Feature"
   ],
   "window_display": false
  }
 },
 "nbformat": 4,
 "nbformat_minor": 1
}
