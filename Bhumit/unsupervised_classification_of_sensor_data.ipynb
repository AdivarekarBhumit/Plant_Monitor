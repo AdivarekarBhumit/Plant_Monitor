{
 "cells": [
  {
   "cell_type": "markdown",
   "metadata": {
    "slideshow": {
     "slide_type": "slide"
    }
   },
   "source": [
    "### Unsupervised Learning to Predict Plant's Health\n",
    "\n",
    "This notebook showcases the application of Unsupervised Learning for classifying the plant's condition whether it is healthy or not-healthy based on Soil Moisture, Humidity and Temperature Data.\n",
    "\n",
    "We are using K-Means clustering algorithm for making two clusters i.e healthy and not-healthy"
   ]
  },
  {
   "cell_type": "code",
   "execution_count": 1,
   "metadata": {
    "ExecuteTime": {
     "end_time": "2019-03-11T04:44:13.043770Z",
     "start_time": "2019-03-11T04:44:07.707563Z"
    },
    "slideshow": {
     "slide_type": "slide"
    }
   },
   "outputs": [],
   "source": [
    "import numpy as np \n",
    "import pandas as pd \n",
    "import matplotlib.pyplot as plt\n",
    "%matplotlib inline\n",
    "\n",
    "from sklearn.cluster import KMeans\n",
    "from sklearn.decomposition import PCA\n",
    "from sklearn.preprocessing import StandardScaler"
   ]
  },
  {
   "cell_type": "markdown",
   "metadata": {
    "slideshow": {
     "slide_type": "slide"
    }
   },
   "source": [
    "### Cleaning Steps\n",
    "\n",
    "Before further processing the sensor data must be cleaned as it contains over-bound values, NaN values and unusual values like 99.9 in humidity. \n",
    "<li>Over-Bound Values are handled by clipping the values in range.</li>\n",
    "<li>NaN values are replaced by Mean Values.</li>\n",
    "<li>Unusual Values like 99.9 are scaled down to range of 55 to 80.</li>\n",
    "\n",
    "After cleaning the data is stored in a CSV.\n",
    "\n",
    "### Preprocessing Steps\n",
    "\n",
    "<ol type='1'>\n",
    "    <li>Load Cleaned CSV. </li>\n",
    "    <li>Select features like Moisture, Humidity, Temperature. </li>\n",
    "    <li>Scale the values between -1 to 1 for better feature understanding and accurate processing.</li>\n",
    "    <li>Using PCA for dimensionality reduction.</li>\n",
    "</ol>\n",
    "\n",
    "### Clustering Algorithm\n",
    "\n",
    "We are using <strong>K-Means Clustering</strong> to create two clusters of healthy and not-healthy for about 300 iterations."
   ]
  },
  {
   "cell_type": "code",
   "execution_count": 2,
   "metadata": {
    "ExecuteTime": {
     "end_time": "2019-03-11T04:44:16.539148Z",
     "start_time": "2019-03-11T04:44:15.264764Z"
    },
    "slideshow": {
     "slide_type": "slide"
    }
   },
   "outputs": [],
   "source": [
    "iot = pd.read_csv('cleaned_iot_data2.csv')\n",
    "data = iot[['moisture_1', 'humidity_1', 'temperature_1']].values\n",
    "\n",
    "# Scaling\n",
    "standard_scaler = StandardScaler().fit(data)\n",
    "x = standard_scaler.transform(data)\n",
    "# Performing PCA\n",
    "pca = PCA(n_components=2).fit(x)\n",
    "pca_ouptut = pca.transform(x)\n",
    "\n",
    "pca_df = pd.DataFrame()\n",
    "pca_df['PCA1'] = pca_ouptut[:, 0]\n",
    "pca_df['PCA2'] = pca_ouptut[:, 1]\n",
    "\n",
    "x = pca_ouptut.copy()\n",
    "\n",
    "#Applying kmeans to the dataset / Creating the kmeans classifier\n",
    "kmeans = KMeans(n_clusters = 2)\n",
    "kmeans.fit(pca_df.values)\n",
    "\n",
    "y_means = kmeans.predict(pca_df.values)\n",
    "pca_df['target'] = y_means"
   ]
  },
  {
   "cell_type": "code",
   "execution_count": 3,
   "metadata": {
    "ExecuteTime": {
     "end_time": "2019-03-11T04:44:20.987319Z",
     "start_time": "2019-03-11T04:44:19.481889Z"
    },
    "slideshow": {
     "slide_type": "slide"
    }
   },
   "outputs": [
    {
     "data": {
      "text/plain": [
       "<matplotlib.legend.Legend at 0x1247ce31e10>"
      ]
     },
     "execution_count": 3,
     "metadata": {},
     "output_type": "execute_result"
    },
    {
     "data": {
      "image/png": "[encoded data removed]",
      "text/plain": [
       "<Figure size 432x288 with 1 Axes>"
      ]
     },
     "metadata": {
      "needs_background": "light"
     },
     "output_type": "display_data"
    }
   ],
   "source": [
    "plt.scatter(pca_df[pca_df['target'] == 1]['PCA1'], pca_df[pca_df['target'] == 1]['PCA2'], s=50, c='red', label='Not-healthy')\n",
    "plt.scatter(pca_df[pca_df['target'] == 0]['PCA1'], pca_df[pca_df['target'] == 0]['PCA2'], s=50, c='blue', label='Healthy')\n",
    "plt.scatter(kmeans.cluster_centers_[0][0], kmeans.cluster_centers_[0][1], s=80, c='yellow', marker='s')\n",
    "plt.scatter(kmeans.cluster_centers_[1][0],  kmeans.cluster_centers_[1][1], s=80, c='purple', marker='s')\n",
    "plt.legend()"
   ]
  },
  {
   "cell_type": "code",
   "execution_count": 4,
   "metadata": {
    "ExecuteTime": {
     "end_time": "2019-03-11T04:44:24.174653Z",
     "start_time": "2019-03-11T04:44:24.118819Z"
    },
    "slideshow": {
     "slide_type": "slide"
    }
   },
   "outputs": [
    {
     "name": "stdout",
     "output_type": "stream",
     "text": [
      "Prediction: Not-Healthy\n"
     ]
    },
    {
     "name": "stderr",
     "output_type": "stream",
     "text": [
      "c:\\users\\bhumit\\anaconda3\\envs\\data_science\\lib\\site-packages\\sklearn\\utils\\validation.py:590: DataConversionWarning: Data with input dtype int32 was converted to float64 by StandardScaler.\n",
      "  warnings.warn(msg, DataConversionWarning)\n"
     ]
    }
   ],
   "source": [
    "'''\n",
    "Workflow\n",
    "\n",
    "1 --> Not Healthy\n",
    "0 --> Healthy\n",
    "\n",
    "Standard Scaler -> standard_scaler\n",
    "PCA -> pca\n",
    "Kmeans -> kmeans\n",
    "'''\n",
    "result = {\n",
    "    1 : 'Not-Healthy',\n",
    "    0 : 'Healthy' \n",
    "}\n",
    "\n",
    "soil_moisture = 66 \n",
    "humidity = 60 \n",
    "temperature = 22 \n",
    "\n",
    "scale = standard_scaler.transform(X=np.array([[soil_moisture, humidity, temperature]]))\n",
    "pca_op = pca.transform(scale)\n",
    "y = kmeans.predict(pca_op)\n",
    "print('Prediction:', result[y[0]])"
   ]
  }
 ],
 "metadata": {
  "kernelspec": {
   "display_name": "Python 3",
   "language": "python",
   "name": "python3"
  },
  "language_info": {
   "codemirror_mode": {
    "name": "ipython",
    "version": 3
   },
   "file_extension": ".py",
   "mimetype": "text/x-python",
   "name": "python",
   "nbconvert_exporter": "python",
   "pygments_lexer": "ipython3",
   "version": "3.5.6"
  },
  "varInspector": {
   "cols": {
    "lenName": 16,
    "lenType": 16,
    "lenVar": 40
   },
   "kernels_config": {
    "python": {
     "delete_cmd_postfix": "",
     "delete_cmd_prefix": "del ",
     "library": "var_list.py",
     "varRefreshCmd": "print(var_dic_list())"
    },
    "r": {
     "delete_cmd_postfix": ") ",
     "delete_cmd_prefix": "rm(",
     "library": "var_list.r",
     "varRefreshCmd": "cat(var_dic_list()) "
    }
   },
   "types_to_exclude": [
    "module",
    "function",
    "builtin_function_or_method",
    "instance",
    "_Feature"
   ],
   "window_display": false
  }
 },
 "nbformat": 4,
 "nbformat_minor": 2
}
