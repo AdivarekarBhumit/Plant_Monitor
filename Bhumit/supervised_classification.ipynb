{
 "cells": [
  {
   "cell_type": "markdown",
   "metadata": {
    "slideshow": {
     "slide_type": "slide"
    }
   },
   "source": [
    "### Supervised Learning Approch for Classification\n",
    "\n",
    "This is the Supervised Learning Approach for Sensor's Data Classification. <br>\n",
    "\n",
    "Firstly, we are manually labelling the sensor's data whether they are healthy (1) or not-healthy (0). Based on the standard range for each parameter labelling process is automated. <br>\n",
    "\n",
    "We are using two classical machine learning algorithms called <strong>Support Vector Machine's (SVM)</strong> and <strong>Random Forest Algorithm</strong>."
   ]
  },
  {
   "cell_type": "code",
   "execution_count": 1,
   "metadata": {
    "ExecuteTime": {
     "end_time": "2019-03-11T04:43:19.429589Z",
     "start_time": "2019-03-11T04:43:05.663928Z"
    },
    "slideshow": {
     "slide_type": "fragment"
    }
   },
   "outputs": [],
   "source": [
    "# All necessary imports\n",
    "\n",
    "import pandas as pd \n",
    "import numpy as np \n",
    "import matplotlib.pyplot as plt \n",
    "\n",
    "from sklearn.svm import SVC\n",
    "from sklearn.ensemble import RandomForestClassifier\n",
    "\n",
    "from sklearn.utils import shuffle\n",
    "from sklearn.model_selection import train_test_split\n",
    "\n",
    "from scikitplot.metrics import plot_roc_curve\n",
    "\n",
    "import warnings\n",
    "warnings.filterwarnings('ignore')\n",
    "%matplotlib inline"
   ]
  },
  {
   "cell_type": "markdown",
   "metadata": {
    "slideshow": {
     "slide_type": "slide"
    }
   },
   "source": [
    "1. Loading Dataset and assigning target labels to these(soil moisture, humidity, temperature) parameters.\n",
    "2. The next step is to convert these numbers to arrays and assigning them as features and labels"
   ]
  },
  {
   "cell_type": "code",
   "execution_count": 2,
   "metadata": {
    "ExecuteTime": {
     "end_time": "2019-03-11T04:43:34.792612Z",
     "start_time": "2019-03-11T04:43:34.539193Z"
    },
    "slideshow": {
     "slide_type": "fragment"
    }
   },
   "outputs": [],
   "source": [
    "iot = pd.read_csv('cleaned_iot_data2.csv')\n",
    "soil_moisture = iot['moisture_1'].values\n",
    "humidity = iot['humidity_1'].values\n",
    "temperature = iot['temperature_1'].values\n",
    "labels = []\n",
    "for i in range(len(humidity)):\n",
    "    if humidity[i] in range(60, 80) and (soil_moisture[i] in range(64, 72) or temperature[i] in range(18, 23)):\n",
    "        labels.append(1)\n",
    "    else:\n",
    "        labels.append(0)\n",
    "        \n",
    "dataset = pd.DataFrame()\n",
    "dataset['soil_moisture'] = soil_moisture\n",
    "dataset['humidity'] = humidity\n",
    "dataset['temperature'] = temperature\n",
    "dataset['labels'] = labels\n",
    "\n",
    "# dataset.to_csv('dataset_supervised_learning.csv')\n",
    "\n",
    "features = np.array(dataset[['soil_moisture', 'humidity', 'temperature']])\n",
    "labels = np.array(dataset[['labels']])"
   ]
  },
  {
   "cell_type": "markdown",
   "metadata": {
    "slideshow": {
     "slide_type": "slide"
    }
   },
   "source": [
    "1. Shuffling the dataset so that predictions does not appear to be biased.\n",
    "2. Splitting data into train and test set is always a good practice for evaluating model after training"
   ]
  },
  {
   "cell_type": "code",
   "execution_count": 3,
   "metadata": {
    "ExecuteTime": {
     "end_time": "2019-03-11T04:43:37.701979Z",
     "start_time": "2019-03-11T04:43:37.692006Z"
    },
    "slideshow": {
     "slide_type": "fragment"
    }
   },
   "outputs": [],
   "source": [
    "X, Y = shuffle(features, labels)\n",
    "X_train, X_test, Y_train, Y_test = train_test_split(X, Y, test_size=0.1)"
   ]
  },
  {
   "cell_type": "markdown",
   "metadata": {
    "slideshow": {
     "slide_type": "slide"
    }
   },
   "source": [
    "SVM Classifier for two classes"
   ]
  },
  {
   "cell_type": "code",
   "execution_count": 5,
   "metadata": {
    "ExecuteTime": {
     "end_time": "2019-03-11T04:43:56.947882Z",
     "start_time": "2019-03-11T04:43:51.454381Z"
    },
    "slideshow": {
     "slide_type": "fragment"
    }
   },
   "outputs": [
    {
     "name": "stdout",
     "output_type": "stream",
     "text": [
      "SVC Classifier: 0.9865092748735245\n"
     ]
    }
   ],
   "source": [
    "# Train SVC and plot roc curve\n",
    "svc = SVC(probability=True)\n",
    "svc.fit(X_train, Y_train)\n",
    "score = svc.score(X_test, Y_test)\n",
    "print('SVC Classifier:',score)\n",
    "# preds = svc.predict_proba(X_test)\n",
    "# plot_roc_curve(Y_test, preds)"
   ]
  },
  {
   "cell_type": "markdown",
   "metadata": {
    "slideshow": {
     "slide_type": "slide"
    }
   },
   "source": [
    "Random Forest Classifier with 100 Estimators (Decision Trees)"
   ]
  },
  {
   "cell_type": "code",
   "execution_count": 6,
   "metadata": {
    "ExecuteTime": {
     "end_time": "2019-03-11T04:43:58.244452Z",
     "start_time": "2019-03-11T04:43:57.605464Z"
    },
    "slideshow": {
     "slide_type": "fragment"
    }
   },
   "outputs": [
    {
     "name": "stdout",
     "output_type": "stream",
     "text": [
      "Random Forest Classifier: 0.9966273187183811\n"
     ]
    }
   ],
   "source": [
    "# Train Random Forest and plot roc curve\n",
    "randomforestclassifier = RandomForestClassifier(n_estimators=100)\n",
    "randomforestclassifier.fit(X_train, Y_train)\n",
    "score = randomforestclassifier.score(X_test, Y_test)\n",
    "print('Random Forest Classifier:', score)\n",
    "# preds = randomforestclassifier.predict_proba(X_test)\n",
    "# plot_roc_curve(Y_test, preds)"
   ]
  },
  {
   "cell_type": "markdown",
   "metadata": {
    "slideshow": {
     "slide_type": "slide"
    }
   },
   "source": [
    "### Results"
   ]
  },
  {
   "cell_type": "code",
   "execution_count": 7,
   "metadata": {
    "ExecuteTime": {
     "end_time": "2019-03-11T04:44:00.650233Z",
     "start_time": "2019-03-11T04:44:00.625300Z"
    },
    "slideshow": {
     "slide_type": "fragment"
    }
   },
   "outputs": [
    {
     "name": "stdout",
     "output_type": "stream",
     "text": [
      "Support Vector Classifier Prediction: Healthy\n",
      "Random Forest Classifier Prediction: Healthy\n"
     ]
    }
   ],
   "source": [
    "result = {\n",
    "    1 : 'Healthy',\n",
    "    0 : 'Not-Healthy'\n",
    "}\n",
    "\n",
    "soil_moisture = 66\n",
    "humidity = 60 \n",
    "temperature = 30\n",
    "\n",
    "svc_prediction = svc.predict(X=[[soil_moisture, humidity, temperature]])\n",
    "print('Support Vector Classifier Prediction:', result[svc_prediction[0]])\n",
    "\n",
    "random_forest = randomforestclassifier.predict([[soil_moisture, humidity, temperature]])\n",
    "print('Random Forest Classifier Prediction:', result[random_forest[0]])"
   ]
  },
  {
   "cell_type": "code",
   "execution_count": 8,
   "metadata": {
    "ExecuteTime": {
     "end_time": "2019-03-11T04:44:02.628530Z",
     "start_time": "2019-03-11T04:44:02.604594Z"
    },
    "slideshow": {
     "slide_type": "fragment"
    }
   },
   "outputs": [
    {
     "name": "stdout",
     "output_type": "stream",
     "text": [
      "Support Vector Classifier Prediction: Not-Healthy\n",
      "Random Forest Classifier Prediction: Not-Healthy\n"
     ]
    }
   ],
   "source": [
    "soil_moisture = 55\n",
    "humidity = 80 \n",
    "temperature = 23\n",
    "\n",
    "svc_prediction = svc.predict(X=[[soil_moisture, humidity, temperature]])\n",
    "print('Support Vector Classifier Prediction:', result[svc_prediction[0]])\n",
    "\n",
    "random_forest = randomforestclassifier.predict([[soil_moisture, humidity, temperature]])\n",
    "print('Random Forest Classifier Prediction:', result[random_forest[0]])"
   ]
  }
 ],
 "metadata": {
  "kernelspec": {
   "display_name": "Python 3",
   "language": "python",
   "name": "python3"
  },
  "language_info": {
   "codemirror_mode": {
    "name": "ipython",
    "version": 3
   },
   "file_extension": ".py",
   "mimetype": "text/x-python",
   "name": "python",
   "nbconvert_exporter": "python",
   "pygments_lexer": "ipython3",
   "version": "3.5.6"
  },
  "varInspector": {
   "cols": {
    "lenName": 16,
    "lenType": 16,
    "lenVar": 40
   },
   "kernels_config": {
    "python": {
     "delete_cmd_postfix": "",
     "delete_cmd_prefix": "del ",
     "library": "var_list.py",
     "varRefreshCmd": "print(var_dic_list())"
    },
    "r": {
     "delete_cmd_postfix": ") ",
     "delete_cmd_prefix": "rm(",
     "library": "var_list.r",
     "varRefreshCmd": "cat(var_dic_list()) "
    }
   },
   "types_to_exclude": [
    "module",
    "function",
    "builtin_function_or_method",
    "instance",
    "_Feature"
   ],
   "window_display": false
  }
 },
 "nbformat": 4,
 "nbformat_minor": 2
}
