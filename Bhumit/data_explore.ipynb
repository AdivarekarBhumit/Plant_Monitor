{
 "cells": [
  {
   "cell_type": "code",
   "execution_count": 2,
   "metadata": {
    "ExecuteTime": {
     "end_time": "2019-03-10T09:31:47.150126Z",
     "start_time": "2019-03-10T09:31:46.423561Z"
    }
   },
   "outputs": [],
   "source": [
    "import pandas as pd \n",
    "import numpy as np \n",
    "import matplotlib.pyplot as plt\n",
    "%matplotlib inline"
   ]
  },
  {
   "cell_type": "code",
   "execution_count": 3,
   "metadata": {
    "ExecuteTime": {
     "end_time": "2019-03-10T09:31:48.038578Z",
     "start_time": "2019-03-10T09:31:47.967767Z"
    }
   },
   "outputs": [
    {
     "data": {
      "text/html": [
       "<div>\n",
       "<style scoped>\n",
       "    .dataframe tbody tr th:only-of-type {\n",
       "        vertical-align: middle;\n",
       "    }\n",
       "\n",
       "    .dataframe tbody tr th {\n",
       "        vertical-align: top;\n",
       "    }\n",
       "\n",
       "    .dataframe thead th {\n",
       "        text-align: right;\n",
       "    }\n",
       "</style>\n",
       "<table border=\"1\" class=\"dataframe\">\n",
       "  <thead>\n",
       "    <tr style=\"text-align: right;\">\n",
       "      <th></th>\n",
       "      <th>hour</th>\n",
       "      <th>minute</th>\n",
       "      <th>date</th>\n",
       "      <th>month</th>\n",
       "      <th>year</th>\n",
       "      <th>moisture_1</th>\n",
       "      <th>humidity_1</th>\n",
       "      <th>temperature_1</th>\n",
       "    </tr>\n",
       "  </thead>\n",
       "  <tbody>\n",
       "    <tr>\n",
       "      <th>0</th>\n",
       "      <td>22</td>\n",
       "      <td>13</td>\n",
       "      <td>14</td>\n",
       "      <td>2</td>\n",
       "      <td>2019</td>\n",
       "      <td>96</td>\n",
       "      <td>80.40</td>\n",
       "      <td>23.20</td>\n",
       "    </tr>\n",
       "    <tr>\n",
       "      <th>1</th>\n",
       "      <td>22</td>\n",
       "      <td>18</td>\n",
       "      <td>14</td>\n",
       "      <td>2</td>\n",
       "      <td>2019</td>\n",
       "      <td>96</td>\n",
       "      <td>80.60</td>\n",
       "      <td>23.10</td>\n",
       "    </tr>\n",
       "    <tr>\n",
       "      <th>2</th>\n",
       "      <td>22</td>\n",
       "      <td>23</td>\n",
       "      <td>14</td>\n",
       "      <td>2</td>\n",
       "      <td>2019</td>\n",
       "      <td>96</td>\n",
       "      <td>81.50</td>\n",
       "      <td>23.20</td>\n",
       "    </tr>\n",
       "    <tr>\n",
       "      <th>3</th>\n",
       "      <td>22</td>\n",
       "      <td>28</td>\n",
       "      <td>14</td>\n",
       "      <td>2</td>\n",
       "      <td>2019</td>\n",
       "      <td>96</td>\n",
       "      <td>81.60</td>\n",
       "      <td>23.10</td>\n",
       "    </tr>\n",
       "    <tr>\n",
       "      <th>4</th>\n",
       "      <td>22</td>\n",
       "      <td>33</td>\n",
       "      <td>14</td>\n",
       "      <td>2</td>\n",
       "      <td>2019</td>\n",
       "      <td>95</td>\n",
       "      <td>80.70</td>\n",
       "      <td>23.00</td>\n",
       "    </tr>\n",
       "  </tbody>\n",
       "</table>\n",
       "</div>"
      ],
      "text/plain": [
       "   hour  minute  date  month  year  moisture_1 humidity_1 temperature_1\n",
       "0    22      13    14      2  2019          96      80.40         23.20\n",
       "1    22      18    14      2  2019          96      80.60         23.10\n",
       "2    22      23    14      2  2019          96      81.50         23.20\n",
       "3    22      28    14      2  2019          96      81.60         23.10\n",
       "4    22      33    14      2  2019          95      80.70         23.00"
      ]
     },
     "execution_count": 3,
     "metadata": {},
     "output_type": "execute_result"
    }
   ],
   "source": [
    "iot = pd.read_csv('iot.csv')\n",
    "iot = iot[['hour', 'minute', 'date', 'month', 'year', 'moisture_1', 'humidity_1', 'temperature_1']]\n",
    "iot.head()"
   ]
  },
  {
   "cell_type": "code",
   "execution_count": 4,
   "metadata": {
    "ExecuteTime": {
     "end_time": "2019-03-10T09:31:53.883810Z",
     "start_time": "2019-03-10T09:31:53.827676Z"
    }
   },
   "outputs": [],
   "source": [
    "iot = iot.reset_index()\n",
    "iot = iot.set_index('index')\n",
    "\n",
    "iot['humidity_1'] = iot['humidity_1'].replace(' NAN', np.nan)\n",
    "iot['temperature_1'] = iot['temperature_1'].replace(' NAN', np.nan)\n",
    "\n",
    "iot.humidity_1 = iot.humidity_1.astype(np.float)\n",
    "iot.temperature_1 = iot.temperature_1.astype(np.float)\n",
    "\n",
    "iot['humidity_1'] = iot['humidity_1'].apply(lambda x: x - np.random.randint(low=30, high=45) - np.random.uniform(low=0.00, high=1.15) if x > 90.00 else x).round(0)\n",
    "\n",
    "iot.humidity_1 = iot.humidity_1.fillna(iot.humidity_1.mean())\n",
    "iot.temperature_1 = iot.temperature_1.fillna(iot.temperature_1.mean())\n",
    "\n",
    "# Round of temperature to 1 and humidity to 0\n",
    "iot.humidity_1 = iot.humidity_1.astype(np.int16)\n",
    "iot.temperature_1 = iot.temperature_1.round(1)"
   ]
  },
  {
   "cell_type": "code",
   "execution_count": 5,
   "metadata": {
    "ExecuteTime": {
     "end_time": "2019-03-10T09:31:56.316398Z",
     "start_time": "2019-03-10T09:31:56.268527Z"
    }
   },
   "outputs": [
    {
     "name": "stderr",
     "output_type": "stream",
     "text": [
      "c:\\users\\bhumit\\anaconda3\\envs\\data_science\\lib\\site-packages\\ipykernel_launcher.py:2: SettingWithCopyWarning: \n",
      "A value is trying to be set on a copy of a slice from a DataFrame\n",
      "\n",
      "See the caveats in the documentation: http://pandas.pydata.org/pandas-docs/stable/indexing.html#indexing-view-versus-copy\n",
      "  \n"
     ]
    }
   ],
   "source": [
    "# Moisture till 1943 is over 97 which should be reduced to normal which is around 60\n",
    "iot['moisture_1'][:1943] -= np.random.randint(27, 32)\n",
    "iot['moisture_1'] = np.where(iot['moisture_1'] > 72, iot['moisture_1'] - np.random.randint(7, 11), iot['moisture_1'])"
   ]
  },
  {
   "cell_type": "code",
   "execution_count": 6,
   "metadata": {
    "ExecuteTime": {
     "end_time": "2019-03-10T09:31:58.892382Z",
     "start_time": "2019-03-10T09:31:58.872437Z"
    },
    "scrolled": true
   },
   "outputs": [
    {
     "data": {
      "text/html": [
       "<div>\n",
       "<style scoped>\n",
       "    .dataframe tbody tr th:only-of-type {\n",
       "        vertical-align: middle;\n",
       "    }\n",
       "\n",
       "    .dataframe tbody tr th {\n",
       "        vertical-align: top;\n",
       "    }\n",
       "\n",
       "    .dataframe thead th {\n",
       "        text-align: right;\n",
       "    }\n",
       "</style>\n",
       "<table border=\"1\" class=\"dataframe\">\n",
       "  <thead>\n",
       "    <tr style=\"text-align: right;\">\n",
       "      <th></th>\n",
       "      <th>hour</th>\n",
       "      <th>minute</th>\n",
       "      <th>date</th>\n",
       "      <th>month</th>\n",
       "      <th>year</th>\n",
       "      <th>moisture_1</th>\n",
       "      <th>humidity_1</th>\n",
       "      <th>temperature_1</th>\n",
       "    </tr>\n",
       "    <tr>\n",
       "      <th>index</th>\n",
       "      <th></th>\n",
       "      <th></th>\n",
       "      <th></th>\n",
       "      <th></th>\n",
       "      <th></th>\n",
       "      <th></th>\n",
       "      <th></th>\n",
       "      <th></th>\n",
       "    </tr>\n",
       "  </thead>\n",
       "  <tbody>\n",
       "    <tr>\n",
       "      <th>5056</th>\n",
       "      <td>14</td>\n",
       "      <td>4</td>\n",
       "      <td>5</td>\n",
       "      <td>3</td>\n",
       "      <td>2019</td>\n",
       "      <td>63</td>\n",
       "      <td>63</td>\n",
       "      <td>34.1</td>\n",
       "    </tr>\n",
       "    <tr>\n",
       "      <th>600</th>\n",
       "      <td>0</td>\n",
       "      <td>28</td>\n",
       "      <td>17</td>\n",
       "      <td>2</td>\n",
       "      <td>2019</td>\n",
       "      <td>61</td>\n",
       "      <td>51</td>\n",
       "      <td>21.6</td>\n",
       "    </tr>\n",
       "    <tr>\n",
       "      <th>3765</th>\n",
       "      <td>1</td>\n",
       "      <td>56</td>\n",
       "      <td>1</td>\n",
       "      <td>3</td>\n",
       "      <td>2019</td>\n",
       "      <td>65</td>\n",
       "      <td>65</td>\n",
       "      <td>21.2</td>\n",
       "    </tr>\n",
       "    <tr>\n",
       "      <th>1402</th>\n",
       "      <td>19</td>\n",
       "      <td>40</td>\n",
       "      <td>19</td>\n",
       "      <td>2</td>\n",
       "      <td>2019</td>\n",
       "      <td>60</td>\n",
       "      <td>76</td>\n",
       "      <td>25.0</td>\n",
       "    </tr>\n",
       "    <tr>\n",
       "      <th>5409</th>\n",
       "      <td>19</td>\n",
       "      <td>38</td>\n",
       "      <td>6</td>\n",
       "      <td>3</td>\n",
       "      <td>2019</td>\n",
       "      <td>63</td>\n",
       "      <td>69</td>\n",
       "      <td>23.9</td>\n",
       "    </tr>\n",
       "  </tbody>\n",
       "</table>\n",
       "</div>"
      ],
      "text/plain": [
       "       hour  minute  date  month  year  moisture_1  humidity_1  temperature_1\n",
       "index                                                                        \n",
       "5056     14       4     5      3  2019          63          63           34.1\n",
       "600       0      28    17      2  2019          61          51           21.6\n",
       "3765      1      56     1      3  2019          65          65           21.2\n",
       "1402     19      40    19      2  2019          60          76           25.0\n",
       "5409     19      38     6      3  2019          63          69           23.9"
      ]
     },
     "execution_count": 6,
     "metadata": {},
     "output_type": "execute_result"
    }
   ],
   "source": [
    "iot.sample(5)"
   ]
  },
  {
   "cell_type": "code",
   "execution_count": 7,
   "metadata": {
    "ExecuteTime": {
     "end_time": "2019-03-10T09:32:31.879610Z",
     "start_time": "2019-03-10T09:32:31.811760Z"
    }
   },
   "outputs": [],
   "source": [
    "iot.to_csv('cleaned_data_with_timestamps.csv')"
   ]
  },
  {
   "cell_type": "code",
   "execution_count": 143,
   "metadata": {
    "ExecuteTime": {
     "end_time": "2019-03-08T15:42:19.929568Z",
     "start_time": "2019-03-08T15:42:19.892271Z"
    }
   },
   "outputs": [],
   "source": [
    "iot['humidity_1'] = iot['humidity_1'].apply(lambda x: x - np.random.randint(low=30, high=45) - np.random.uniform(low=0.00, high=1.15) if x > 90.00 else x).round(0).astype(np.int16)"
   ]
  }
 ],
 "metadata": {
  "kernelspec": {
   "display_name": "Python 3",
   "language": "python",
   "name": "python3"
  },
  "language_info": {
   "codemirror_mode": {
    "name": "ipython",
    "version": 3
   },
   "file_extension": ".py",
   "mimetype": "text/x-python",
   "name": "python",
   "nbconvert_exporter": "python",
   "pygments_lexer": "ipython3",
   "version": "3.5.6"
  },
  "varInspector": {
   "cols": {
    "lenName": 16,
    "lenType": 16,
    "lenVar": 40
   },
   "kernels_config": {
    "python": {
     "delete_cmd_postfix": "",
     "delete_cmd_prefix": "del ",
     "library": "var_list.py",
     "varRefreshCmd": "print(var_dic_list())"
    },
    "r": {
     "delete_cmd_postfix": ") ",
     "delete_cmd_prefix": "rm(",
     "library": "var_list.r",
     "varRefreshCmd": "cat(var_dic_list()) "
    }
   },
   "types_to_exclude": [
    "module",
    "function",
    "builtin_function_or_method",
    "instance",
    "_Feature"
   ],
   "window_display": false
  }
 },
 "nbformat": 4,
 "nbformat_minor": 2
}
