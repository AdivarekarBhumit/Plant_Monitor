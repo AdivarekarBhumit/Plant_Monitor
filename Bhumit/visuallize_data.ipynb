{
 "cells": [
  {
   "cell_type": "code",
   "execution_count": 1,
   "metadata": {
    "ExecuteTime": {
     "end_time": "2019-03-11T05:06:39.841859Z",
     "start_time": "2019-03-11T05:06:36.070677Z"
    },
    "slideshow": {
     "slide_type": "slide"
    }
   },
   "outputs": [
    {
     "data": {
      "text/html": [
       "<script type=\"text/javascript\">window.PlotlyConfig = {MathJaxConfig: 'local'};</script><script type=\"text/javascript\">if (window.MathJax) {MathJax.Hub.Config({SVG: {font: \"STIX-Web\"}});}</script><script>requirejs.config({paths: { 'plotly': ['https://cdn.plot.ly/plotly-latest.min']},});if(!window._Plotly) {require(['plotly'],function(plotly) {window._Plotly=plotly;});}</script>"
      ],
      "text/vnd.plotly.v1+html": [
       "<script type=\"text/javascript\">window.PlotlyConfig = {MathJaxConfig: 'local'};</script><script type=\"text/javascript\">if (window.MathJax) {MathJax.Hub.Config({SVG: {font: \"STIX-Web\"}});}</script><script>requirejs.config({paths: { 'plotly': ['https://cdn.plot.ly/plotly-latest.min']},});if(!window._Plotly) {require(['plotly'],function(plotly) {window._Plotly=plotly;});}</script>"
      ]
     },
     "metadata": {},
     "output_type": "display_data"
    }
   ],
   "source": [
    "import pandas as pd \n",
    "import numpy as np\n",
    "import plotly.plotly as ply\n",
    "from plotly.offline import download_plotlyjs,init_notebook_mode, iplot, plot\n",
    "import plotly.graph_objs as go\n",
    "init_notebook_mode(True)"
   ]
  },
  {
   "cell_type": "code",
   "execution_count": 2,
   "metadata": {
    "ExecuteTime": {
     "end_time": "2019-03-11T05:06:41.874046Z",
     "start_time": "2019-03-11T05:06:41.849079Z"
    },
    "slideshow": {
     "slide_type": "fragment"
    }
   },
   "outputs": [],
   "source": [
    "iot = pd.read_csv('cleaned_data_with_timestamps.csv')"
   ]
  },
  {
   "cell_type": "code",
   "execution_count": 3,
   "metadata": {
    "ExecuteTime": {
     "end_time": "2019-03-11T05:06:45.662390Z",
     "start_time": "2019-03-11T05:06:42.859700Z"
    },
    "scrolled": false,
    "slideshow": {
     "slide_type": "slide"
    }
   },
   "outputs": [
    {
     "data": {
      "application/vnd.plotly.v1+json": {
       "config": {
        "linkText": "Export to plot.ly",
        "plotlyServerURL": "https://plot.ly",
        "showLink": false
       },
       "data": [
        {
         "mode": "lines+markers",
         "name": "Soil Moisture",
         "type": "scatter",
         "uid": "0ebfa70a-27f6-4153-b97a-6efd2ef469b1",
         "x": [
          "15:1 20/2/2019",
          "15:6 20/2/2019",
          "15:11 20/2/2019",
          "15:16 20/2/2019",
          "15:21 20/2/2019",
          "15:26 20/2/2019",
          "15:31 20/2/2019",
          "15:36 20/2/2019",
          "15:41 20/2/2019",
          "15:46 20/2/2019",
          "15:51 20/2/2019",
          "15:56 20/2/2019",
          "16:1 20/2/2019",
          "16:6 20/2/2019",
          "16:11 20/2/2019",
          "16:16 20/2/2019",
          "16:21 20/2/2019",
          "16:26 20/2/2019",
          "16:31 20/2/2019",
          "16:36 20/2/2019",
          "16:42 20/2/2019",
          "16:47 20/2/2019",
          "16:52 20/2/2019",
          "16:57 20/2/2019",
          "17:2 20/2/2019",
          "17:7 20/2/2019"
         ],
         "y": [
          59,
          59,
          59,
          59,
          59,
          59,
          59,
          59,
          58,
          58,
          58,
          58,
          58,
          59,
          57,
          57,
          59,
          59,
          59,
          59,
          59,
          59,
          60,
          59,
          60,
          58
         ]
        },
        {
         "mode": "lines+markers",
         "name": "Humidity",
         "type": "scatter",
         "uid": "89393567-4de5-492c-89b8-352474d963ea",
         "x": [
          "15:1 20/2/2019",
          "15:6 20/2/2019",
          "15:11 20/2/2019",
          "15:16 20/2/2019",
          "15:21 20/2/2019",
          "15:26 20/2/2019",
          "15:31 20/2/2019",
          "15:36 20/2/2019",
          "15:41 20/2/2019",
          "15:46 20/2/2019",
          "15:51 20/2/2019",
          "15:56 20/2/2019",
          "16:1 20/2/2019",
          "16:6 20/2/2019",
          "16:11 20/2/2019",
          "16:16 20/2/2019",
          "16:21 20/2/2019",
          "16:26 20/2/2019",
          "16:31 20/2/2019",
          "16:36 20/2/2019",
          "16:42 20/2/2019",
          "16:47 20/2/2019",
          "16:52 20/2/2019",
          "16:57 20/2/2019",
          "17:2 20/2/2019",
          "17:7 20/2/2019"
         ],
         "y": [
          58,
          58,
          60,
          57,
          60,
          65,
          63,
          67,
          69,
          65,
          64,
          63,
          66,
          68,
          71,
          71,
          67,
          75,
          71,
          71,
          72,
          76,
          75,
          76,
          79,
          86
         ]
        },
        {
         "mode": "lines+markers",
         "name": "Temperature",
         "type": "scatter",
         "uid": "b56bedc4-468a-4432-9bee-4039e270b02e",
         "x": [
          "15:1 20/2/2019",
          "15:6 20/2/2019",
          "15:11 20/2/2019",
          "15:16 20/2/2019",
          "15:21 20/2/2019",
          "15:26 20/2/2019",
          "15:31 20/2/2019",
          "15:36 20/2/2019",
          "15:41 20/2/2019",
          "15:46 20/2/2019",
          "15:51 20/2/2019",
          "15:56 20/2/2019",
          "16:1 20/2/2019",
          "16:6 20/2/2019",
          "16:11 20/2/2019",
          "16:16 20/2/2019",
          "16:21 20/2/2019",
          "16:26 20/2/2019",
          "16:31 20/2/2019",
          "16:36 20/2/2019",
          "16:42 20/2/2019",
          "16:47 20/2/2019",
          "16:52 20/2/2019",
          "16:57 20/2/2019",
          "17:2 20/2/2019",
          "17:7 20/2/2019"
         ],
         "y": [
          34,
          34.5,
          34,
          34.6,
          33.4,
          33.3,
          32.8,
          32.4,
          32,
          33,
          32.5,
          33.1,
          31.9,
          32.1,
          31.3,
          32.1,
          32.2,
          30.7,
          31.3,
          31.4,
          30.8,
          30,
          30.4,
          29.5,
          29.2,
          28.1
         ]
        }
       ],
       "layout": {}
      },
      "text/html": [
       "<div id=\"9c1226f0-3839-40f6-84ee-9a4d4e3f28a1\" style=\"height: 525px; width: 100%;\" class=\"plotly-graph-div\"></div><script type=\"text/javascript\">require([\"plotly\"], function(Plotly) { window.PLOTLYENV=window.PLOTLYENV || {};window.PLOTLYENV.BASE_URL=\"https://plot.ly\";\n",
       "if (document.getElementById(\"9c1226f0-3839-40f6-84ee-9a4d4e3f28a1\")) {\n",
       "    Plotly.newPlot(\"9c1226f0-3839-40f6-84ee-9a4d4e3f28a1\", [{\"y\": [59.0, 59.0, 59.0, 59.0, 59.0, 59.0, 59.0, 59.0, 58.0, 58.0, 58.0, 58.0, 58.0, 59.0, 57.0, 57.0, 59.0, 59.0, 59.0, 59.0, 59.0, 59.0, 60.0, 59.0, 60.0, 58.0], \"uid\": \"e7f3cc78-da45-4b1d-b1c8-e12203d889c7\", \"name\": \"Soil Moisture\", \"mode\": \"lines+markers\", \"x\": [\"15:1 20/2/2019\", \"15:6 20/2/2019\", \"15:11 20/2/2019\", \"15:16 20/2/2019\", \"15:21 20/2/2019\", \"15:26 20/2/2019\", \"15:31 20/2/2019\", \"15:36 20/2/2019\", \"15:41 20/2/2019\", \"15:46 20/2/2019\", \"15:51 20/2/2019\", \"15:56 20/2/2019\", \"16:1 20/2/2019\", \"16:6 20/2/2019\", \"16:11 20/2/2019\", \"16:16 20/2/2019\", \"16:21 20/2/2019\", \"16:26 20/2/2019\", \"16:31 20/2/2019\", \"16:36 20/2/2019\", \"16:42 20/2/2019\", \"16:47 20/2/2019\", \"16:52 20/2/2019\", \"16:57 20/2/2019\", \"17:2 20/2/2019\", \"17:7 20/2/2019\"], \"type\": \"scatter\"}, {\"y\": [58.0, 58.0, 60.0, 57.0, 60.0, 65.0, 63.0, 67.0, 69.0, 65.0, 64.0, 63.0, 66.0, 68.0, 71.0, 71.0, 67.0, 75.0, 71.0, 71.0, 72.0, 76.0, 75.0, 76.0, 79.0, 86.0], \"uid\": \"2d8380c9-c1d4-47fd-af88-8d52b76d2ad1\", \"name\": \"Humidity\", \"mode\": \"lines+markers\", \"x\": [\"15:1 20/2/2019\", \"15:6 20/2/2019\", \"15:11 20/2/2019\", \"15:16 20/2/2019\", \"15:21 20/2/2019\", \"15:26 20/2/2019\", \"15:31 20/2/2019\", \"15:36 20/2/2019\", \"15:41 20/2/2019\", \"15:46 20/2/2019\", \"15:51 20/2/2019\", \"15:56 20/2/2019\", \"16:1 20/2/2019\", \"16:6 20/2/2019\", \"16:11 20/2/2019\", \"16:16 20/2/2019\", \"16:21 20/2/2019\", \"16:26 20/2/2019\", \"16:31 20/2/2019\", \"16:36 20/2/2019\", \"16:42 20/2/2019\", \"16:47 20/2/2019\", \"16:52 20/2/2019\", \"16:57 20/2/2019\", \"17:2 20/2/2019\", \"17:7 20/2/2019\"], \"type\": \"scatter\"}, {\"y\": [34.0, 34.5, 34.0, 34.6, 33.4, 33.3, 32.8, 32.4, 32.0, 33.0, 32.5, 33.1, 31.9, 32.1, 31.3, 32.1, 32.2, 30.7, 31.3, 31.4, 30.8, 30.0, 30.4, 29.5, 29.2, 28.1], \"uid\": \"73e73859-8655-449d-9a8e-8c761d2b5aea\", \"name\": \"Temperature\", \"mode\": \"lines+markers\", \"x\": [\"15:1 20/2/2019\", \"15:6 20/2/2019\", \"15:11 20/2/2019\", \"15:16 20/2/2019\", \"15:21 20/2/2019\", \"15:26 20/2/2019\", \"15:31 20/2/2019\", \"15:36 20/2/2019\", \"15:41 20/2/2019\", \"15:46 20/2/2019\", \"15:51 20/2/2019\", \"15:56 20/2/2019\", \"16:1 20/2/2019\", \"16:6 20/2/2019\", \"16:11 20/2/2019\", \"16:16 20/2/2019\", \"16:21 20/2/2019\", \"16:26 20/2/2019\", \"16:31 20/2/2019\", \"16:36 20/2/2019\", \"16:42 20/2/2019\", \"16:47 20/2/2019\", \"16:52 20/2/2019\", \"16:57 20/2/2019\", \"17:2 20/2/2019\", \"17:7 20/2/2019\"], \"type\": \"scatter\"}], {}, {\"showLink\": false, \"plotlyServerURL\": \"https://plot.ly\", \"linkText\": \"Export to plot.ly\"}); \n",
       "}\n",
       "});</script><script type=\"text/javascript\">window.addEventListener(\"resize\", function(){if (document.getElementById(\"9c1226f0-3839-40f6-84ee-9a4d4e3f28a1\")) {window._Plotly.Plots.resize(document.getElementById(\"9c1226f0-3839-40f6-84ee-9a4d4e3f28a1\"));};})</script>"
      ],
      "text/vnd.plotly.v1+html": [
       "<div id=\"9c1226f0-3839-40f6-84ee-9a4d4e3f28a1\" style=\"height: 525px; width: 100%;\" class=\"plotly-graph-div\"></div><script type=\"text/javascript\">require([\"plotly\"], function(Plotly) { window.PLOTLYENV=window.PLOTLYENV || {};window.PLOTLYENV.BASE_URL=\"https://plot.ly\";\n",
       "if (document.getElementById(\"9c1226f0-3839-40f6-84ee-9a4d4e3f28a1\")) {\n",
       "    Plotly.newPlot(\"9c1226f0-3839-40f6-84ee-9a4d4e3f28a1\", [{\"y\": [59.0, 59.0, 59.0, 59.0, 59.0, 59.0, 59.0, 59.0, 58.0, 58.0, 58.0, 58.0, 58.0, 59.0, 57.0, 57.0, 59.0, 59.0, 59.0, 59.0, 59.0, 59.0, 60.0, 59.0, 60.0, 58.0], \"uid\": \"e7f3cc78-da45-4b1d-b1c8-e12203d889c7\", \"name\": \"Soil Moisture\", \"mode\": \"lines+markers\", \"x\": [\"15:1 20/2/2019\", \"15:6 20/2/2019\", \"15:11 20/2/2019\", \"15:16 20/2/2019\", \"15:21 20/2/2019\", \"15:26 20/2/2019\", \"15:31 20/2/2019\", \"15:36 20/2/2019\", \"15:41 20/2/2019\", \"15:46 20/2/2019\", \"15:51 20/2/2019\", \"15:56 20/2/2019\", \"16:1 20/2/2019\", \"16:6 20/2/2019\", \"16:11 20/2/2019\", \"16:16 20/2/2019\", \"16:21 20/2/2019\", \"16:26 20/2/2019\", \"16:31 20/2/2019\", \"16:36 20/2/2019\", \"16:42 20/2/2019\", \"16:47 20/2/2019\", \"16:52 20/2/2019\", \"16:57 20/2/2019\", \"17:2 20/2/2019\", \"17:7 20/2/2019\"], \"type\": \"scatter\"}, {\"y\": [58.0, 58.0, 60.0, 57.0, 60.0, 65.0, 63.0, 67.0, 69.0, 65.0, 64.0, 63.0, 66.0, 68.0, 71.0, 71.0, 67.0, 75.0, 71.0, 71.0, 72.0, 76.0, 75.0, 76.0, 79.0, 86.0], \"uid\": \"2d8380c9-c1d4-47fd-af88-8d52b76d2ad1\", \"name\": \"Humidity\", \"mode\": \"lines+markers\", \"x\": [\"15:1 20/2/2019\", \"15:6 20/2/2019\", \"15:11 20/2/2019\", \"15:16 20/2/2019\", \"15:21 20/2/2019\", \"15:26 20/2/2019\", \"15:31 20/2/2019\", \"15:36 20/2/2019\", \"15:41 20/2/2019\", \"15:46 20/2/2019\", \"15:51 20/2/2019\", \"15:56 20/2/2019\", \"16:1 20/2/2019\", \"16:6 20/2/2019\", \"16:11 20/2/2019\", \"16:16 20/2/2019\", \"16:21 20/2/2019\", \"16:26 20/2/2019\", \"16:31 20/2/2019\", \"16:36 20/2/2019\", \"16:42 20/2/2019\", \"16:47 20/2/2019\", \"16:52 20/2/2019\", \"16:57 20/2/2019\", \"17:2 20/2/2019\", \"17:7 20/2/2019\"], \"type\": \"scatter\"}, {\"y\": [34.0, 34.5, 34.0, 34.6, 33.4, 33.3, 32.8, 32.4, 32.0, 33.0, 32.5, 33.1, 31.9, 32.1, 31.3, 32.1, 32.2, 30.7, 31.3, 31.4, 30.8, 30.0, 30.4, 29.5, 29.2, 28.1], \"uid\": \"73e73859-8655-449d-9a8e-8c761d2b5aea\", \"name\": \"Temperature\", \"mode\": \"lines+markers\", \"x\": [\"15:1 20/2/2019\", \"15:6 20/2/2019\", \"15:11 20/2/2019\", \"15:16 20/2/2019\", \"15:21 20/2/2019\", \"15:26 20/2/2019\", \"15:31 20/2/2019\", \"15:36 20/2/2019\", \"15:41 20/2/2019\", \"15:46 20/2/2019\", \"15:51 20/2/2019\", \"15:56 20/2/2019\", \"16:1 20/2/2019\", \"16:6 20/2/2019\", \"16:11 20/2/2019\", \"16:16 20/2/2019\", \"16:21 20/2/2019\", \"16:26 20/2/2019\", \"16:31 20/2/2019\", \"16:36 20/2/2019\", \"16:42 20/2/2019\", \"16:47 20/2/2019\", \"16:52 20/2/2019\", \"16:57 20/2/2019\", \"17:2 20/2/2019\", \"17:7 20/2/2019\"], \"type\": \"scatter\"}], {}, {\"showLink\": false, \"plotlyServerURL\": \"https://plot.ly\", \"linkText\": \"Export to plot.ly\"}); \n",
       "}\n",
       "});</script><script type=\"text/javascript\">window.addEventListener(\"resize\", function(){if (document.getElementById(\"9c1226f0-3839-40f6-84ee-9a4d4e3f28a1\")) {window._Plotly.Plots.resize(document.getElementById(\"9c1226f0-3839-40f6-84ee-9a4d4e3f28a1\"));};})</script>"
      ]
     },
     "metadata": {},
     "output_type": "display_data"
    }
   ],
   "source": [
    "def concat_date(df):\n",
    "    \n",
    "    hours = df['hour'].astype(np.int16).tolist()\n",
    "    minutes = df['minute'].astype(np.int16).tolist()\n",
    "    dates = df['date'].astype(np.int16).tolist()\n",
    "    months = df['month'].astype(np.int16).tolist()\n",
    "    years = df['year'].astype(np.int16).tolist()\n",
    "    \n",
    "    dates_list = []\n",
    "    for i in range(len(hours)):\n",
    "        dates_list.append(str(str(hours[i]) + ':' + str((minutes[i])) + ' ' + str(dates[i]) + '/' + str(months[i]) + '/' + str(years[i])))\n",
    "        \n",
    "    return dates_list\n",
    "\n",
    "date = 20\n",
    "month = 2\n",
    "start_hour = 15\n",
    "end_hour = 17\n",
    "\n",
    "range_data = iot.where(iot['date'] == date).where(iot['month'] == month).where(iot['hour'] >= start_hour).where(iot['hour'] <= end_hour).dropna()\n",
    "x = concat_date(range_data)\n",
    "moist = range_data['moisture_1']\n",
    "humid = range_data['humidity_1']\n",
    "temp = range_data['temperature_1']\n",
    "\n",
    "trace0 = go.Scatter(\n",
    "    x = x, \n",
    "    y = moist, \n",
    "    mode='lines+markers', \n",
    "    name='Soil Moisture'\n",
    ")\n",
    "\n",
    "trace1 = go.Scatter(\n",
    "    x = x,\n",
    "    y = humid,\n",
    "    mode='lines+markers',\n",
    "    name='Humidity'\n",
    ")\n",
    "\n",
    "trace2 = go.Scatter(\n",
    "    x = x, \n",
    "    y = temp, \n",
    "    mode='lines+markers', \n",
    "    name='Temperature'\n",
    ")\n",
    "\n",
    "plotting_data = [trace0, trace1, trace2]\n",
    "\n",
    "iplot(plotting_data)"
   ]
  }
 ],
 "metadata": {
  "kernelspec": {
   "display_name": "Python 3",
   "language": "python",
   "name": "python3"
  },
  "language_info": {
   "codemirror_mode": {
    "name": "ipython",
    "version": 3
   },
   "file_extension": ".py",
   "mimetype": "text/x-python",
   "name": "python",
   "nbconvert_exporter": "python",
   "pygments_lexer": "ipython3",
   "version": "3.5.6"
  },
  "varInspector": {
   "cols": {
    "lenName": 16,
    "lenType": 16,
    "lenVar": 40
   },
   "kernels_config": {
    "python": {
     "delete_cmd_postfix": "",
     "delete_cmd_prefix": "del ",
     "library": "var_list.py",
     "varRefreshCmd": "print(var_dic_list())"
    },
    "r": {
     "delete_cmd_postfix": ") ",
     "delete_cmd_prefix": "rm(",
     "library": "var_list.r",
     "varRefreshCmd": "cat(var_dic_list()) "
    }
   },
   "types_to_exclude": [
    "module",
    "function",
    "builtin_function_or_method",
    "instance",
    "_Feature"
   ],
   "window_display": false
  }
 },
 "nbformat": 4,
 "nbformat_minor": 2
}
