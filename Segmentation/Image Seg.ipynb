{
 "cells": [
  {
   "cell_type": "code",
   "execution_count": 1,
   "metadata": {},
   "outputs": [],
   "source": [
    "import numpy as np\n",
    "import cv2\n",
    "import imutils"
   ]
  },
  {
   "cell_type": "code",
   "execution_count": 5,
   "metadata": {},
   "outputs": [],
   "source": [
    "check = cv2.imread('newcheck.jpeg', 0)\n",
    "og = cv2.imread('newcheck.jpeg')\n",
    "\n",
    "_, check = cv2.threshold(check, 100, 255, cv2.THRESH_BINARY_INV)\n",
    "\n",
    "canny = cv2.Canny(check, 30, 100)\n",
    "abc = cv2.cvtColor(check, cv2.COLOR_GRAY2RGB)\n",
    "temp = og * abc\n",
    "# canny = cv2.dilate(canny, np.ones((3, 3)),iterations=2)\n",
    "test = cv2.resize(canny, (500, 500))\n",
    "cv2.imshow('canny', temp)\n",
    "cnts = cv2.findContours(canny.copy(), cv2.RETR_EXTERNAL,cv2.CHAIN_APPROX_SIMPLE)\n",
    "cnts = imutils.grab_contours(cnts)\n",
    "c = max(cnts, key=cv2.contourArea)\n",
    "new = check.copy()\n",
    "cv2.drawContours(check, [c], 0, (0, 255, 0), 50)\n",
    "\n",
    "contours = [np.array([[100, 180], [200, 280], [200, 180]]), np.array([[280, 70], [12, 20], [80, 150]])]\n",
    "\n",
    "stencil = np.zeros(new.shape).astype(new.dtype)\n",
    "\n",
    "# test = cv2.fillPoly(stencil, contours, [255, 255, 255])\n",
    "test = cv2.resize(check, (500, 500))\n",
    "\n",
    "result = cv2.bitwise_or(new, stencil)\n",
    "\n",
    "result = cv2.resize(result, (500, 500))\n",
    "cv2.imshow('title', test)\n",
    "cv2.waitKey(0)\n",
    "cv2.destroyAllWindows()"
   ]
  },
  {
   "cell_type": "code",
   "execution_count": 29,
   "metadata": {},
   "outputs": [],
   "source": [
    "og = cv2.imread('bgwhite.jpeg')\n",
    "gray = cv2.imread('bgwhite.jpeg', 0)\n",
    "\n",
    "_, thresh = cv2.threshold(gray, 100, 255, cv2.THRESH_BINARY_INV)\n",
    "rgb = cv2.cvtColor(thresh, cv2.COLOR_GRAY2RGB)\n",
    "\n",
    "canny = cv2.Canny(thresh, 30, 100)\n",
    "canny = cv2.dilate(canny, None,iterations=2)\n",
    "cnts = cv2.findContours(canny.copy(), cv2.RETR_EXTERNAL,cv2.CHAIN_APPROX_SIMPLE)\n",
    "cnts = imutils.grab_contours(cnts)\n",
    "c = max(cnts, key=cv2.contourArea)\n",
    "x, y, w, h = cv2.boundingRect(c)\n",
    "\n",
    "cropped = og[y:y + h, x:x + w]\n",
    "cropped_rgb = rgb[y:y + h, x:x + w]\n",
    "\n",
    "cropped[cropped_rgb < 50] = 0\n",
    "resized = cv2.resize(cropped, (1000, 1000))\n",
    "# cv2.imwrite('cropped_segmented.jpg', cropped)\n",
    "\n",
    "cv2.imshow('title', resized)\n",
    "cv2.waitKey(0)\n",
    "cv2.destroyAllWindows()"
   ]
  },
  {
   "cell_type": "code",
   "execution_count": null,
   "metadata": {},
   "outputs": [],
   "source": []
  },
  {
   "cell_type": "markdown",
   "metadata": {},
   "source": [
    "# Script to super impose image on another image"
   ]
  },
  {
   "cell_type": "code",
   "execution_count": 2,
   "metadata": {},
   "outputs": [
    {
     "data": {
      "text/plain": [
       "True"
      ]
     },
     "execution_count": 2,
     "metadata": {},
     "output_type": "execute_result"
    }
   ],
   "source": [
    "img = cv2.imread('cropped_segmented_newcheck.jpg')\n",
    "resized = cv2.resize(img, (600, 600))\n",
    "cv2.imwrite('for_script.jpg', resized)"
   ]
  },
  {
   "cell_type": "code",
   "execution_count": 38,
   "metadata": {},
   "outputs": [],
   "source": [
    "leaf = cv2.imread('for_script.jpg')\n",
    "watch = cv2.imread('600.jpg')\n",
    "gray = cv2.imread('for_script.jpg', 0)\n",
    "_, gray = cv2.threshold(gray, 20, 255, cv2.THRESH_BINARY)\n",
    "cv2.imshow('leaf', leaf)\n",
    "cv2.imshow('watch', watch)\n",
    "\n",
    "# cv2.imshow('gray', gray)\n",
    "\n",
    "b, g, r = cv2.split(leaf)\n",
    "bw, gw, rw = cv2.split(watch)\n",
    "\n",
    "# print(b)\n",
    "bw[b > 0] = 255\n",
    "gw[g > 0] = 255\n",
    "rw[r > 0] = 255\n",
    "    \n",
    "for idx, i in enumerate(b):\n",
    "    for idxj, j in enumerate(i):\n",
    "        if (gray[idx][idxj] > 0):\n",
    "            bw[idx][idxj] = j\n",
    "        \n",
    "for idx, i in enumerate(g):\n",
    "    for idxj, j in enumerate(i):\n",
    "        if (gray[idx][idxj] > 0):\n",
    "            gw[idx][idxj] = j\n",
    "        \n",
    "for idx, i in enumerate(r):\n",
    "    for idxj, j in enumerate(i):\n",
    "        if (gray[idx][idxj] > 0):\n",
    "            rw[idx][idxj] = j\n",
    "\n",
    "watch = cv2.merge((bw, gw, rw))\n",
    "# watch[0][leaf[0] == 0] = 0\n",
    "# watch[1][leaf[1] == 0] = 0\n",
    "# watch[2][leaf[2] == 0] = 0\n",
    "cv2.imshow('title', watch)\n",
    "cv2.waitKey(0)\n",
    "cv2.destroyAllWindows()"
   ]
  },
  {
   "cell_type": "code",
   "execution_count": null,
   "metadata": {},
   "outputs": [],
   "source": []
  },
  {
   "cell_type": "code",
   "execution_count": null,
   "metadata": {},
   "outputs": [],
   "source": []
  },
  {
   "cell_type": "code",
   "execution_count": null,
   "metadata": {},
   "outputs": [],
   "source": []
  }
 ],
 "metadata": {
  "kernelspec": {
   "display_name": "Python 3",
   "language": "python",
   "name": "python3"
  },
  "language_info": {
   "codemirror_mode": {
    "name": "ipython",
    "version": 3
   },
   "file_extension": ".py",
   "mimetype": "text/x-python",
   "name": "python",
   "nbconvert_exporter": "python",
   "pygments_lexer": "ipython3",
   "version": "3.5.2"
  }
 },
 "nbformat": 4,
 "nbformat_minor": 2
}
