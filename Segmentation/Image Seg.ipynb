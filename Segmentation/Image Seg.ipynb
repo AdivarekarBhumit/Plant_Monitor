{
 "cells": [
  {
   "cell_type": "code",
   "execution_count": 1,
   "metadata": {},
   "outputs": [],
   "source": [
    "import numpy as np\n",
    "import cv2\n",
    "import imutils"
   ]
  },
  {
   "cell_type": "code",
   "execution_count": 5,
   "metadata": {},
   "outputs": [],
   "source": [
    "check = cv2.imread('newcheck.jpeg', 0)\n",
    "og = cv2.imread('newcheck.jpeg')\n",
    "\n",
    "_, check = cv2.threshold(check, 100, 255, cv2.THRESH_BINARY_INV)\n",
    "\n",
    "canny = cv2.Canny(check, 30, 100)\n",
    "abc = cv2.cvtColor(check, cv2.COLOR_GRAY2RGB)\n",
    "temp = og * abc\n",
    "# canny = cv2.dilate(canny, np.ones((3, 3)),iterations=2)\n",
    "test = cv2.resize(canny, (500, 500))\n",
    "cv2.imshow('canny', temp)\n",
    "cnts = cv2.findContours(canny.copy(), cv2.RETR_EXTERNAL,cv2.CHAIN_APPROX_SIMPLE)\n",
    "cnts = imutils.grab_contours(cnts)\n",
    "c = max(cnts, key=cv2.contourArea)\n",
    "new = check.copy()\n",
    "cv2.drawContours(check, [c], 0, (0, 255, 0), 50)\n",
    "\n",
    "contours = [np.array([[100, 180], [200, 280], [200, 180]]), np.array([[280, 70], [12, 20], [80, 150]])]\n",
    "\n",
    "stencil = np.zeros(new.shape).astype(new.dtype)\n",
    "\n",
    "# test = cv2.fillPoly(stencil, contours, [255, 255, 255])\n",
    "test = cv2.resize(check, (500, 500))\n",
    "\n",
    "result = cv2.bitwise_or(new, stencil)\n",
    "\n",
    "result = cv2.resize(result, (500, 500))\n",
    "cv2.imshow('title', test)\n",
    "cv2.waitKey(0)\n",
    "cv2.destroyAllWindows()"
   ]
  },
  {
   "cell_type": "code",
   "execution_count": 29,
   "metadata": {},
   "outputs": [],
   "source": [
    "og = cv2.imread('bgwhite.jpeg')\n",
    "gray = cv2.imread('bgwhite.jpeg', 0)\n",
    "\n",
    "_, thresh = cv2.threshold(gray, 100, 255, cv2.THRESH_BINARY_INV)\n",
    "rgb = cv2.cvtColor(thresh, cv2.COLOR_GRAY2RGB)\n",
    "\n",
    "canny = cv2.Canny(thresh, 30, 100)\n",
    "canny = cv2.dilate(canny, None,iterations=2)\n",
    "cnts = cv2.findContours(canny.copy(), cv2.RETR_EXTERNAL,cv2.CHAIN_APPROX_SIMPLE)\n",
    "cnts = imutils.grab_contours(cnts)\n",
    "c = max(cnts, key=cv2.contourArea)\n",
    "x, y, w, h = cv2.boundingRect(c)\n",
    "\n",
    "cropped = og[y:y + h, x:x + w]\n",
    "cropped_rgb = rgb[y:y + h, x:x + w]\n",
    "\n",
    "cropped[cropped_rgb < 50] = 0\n",
    "resized = cv2.resize(cropped, (1000, 1000))\n",
    "# cv2.imwrite('cropped_segmented.jpg', cropped)\n",
    "\n",
    "cv2.imshow('title', resized)\n",
    "cv2.waitKey(0)\n",
    "cv2.destroyAllWindows()"
   ]
  },
  {
   "cell_type": "code",
   "execution_count": null,
   "metadata": {},
   "outputs": [],
   "source": []
  }
 ],
 "metadata": {
  "kernelspec": {
   "display_name": "Python 3",
   "language": "python",
   "name": "python3"
  },
  "language_info": {
   "codemirror_mode": {
    "name": "ipython",
    "version": 3
   },
   "file_extension": ".py",
   "mimetype": "text/x-python",
   "name": "python",
   "nbconvert_exporter": "python",
   "pygments_lexer": "ipython3",
   "version": "3.5.2"
  }
 },
 "nbformat": 4,
 "nbformat_minor": 2
}
