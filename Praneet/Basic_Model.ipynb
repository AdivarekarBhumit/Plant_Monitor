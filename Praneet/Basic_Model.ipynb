{
 "cells": [
  {
   "cell_type": "code",
   "execution_count": 2,
   "metadata": {
    "scrolled": true
   },
   "outputs": [],
   "source": [
    "import numpy as np\n",
    "import tensorflow as tf\n",
    "import cv2\n",
    "import os\n",
    "import matplotlib.pyplot as plt\n",
    "\n",
    "import keras\n",
    "\n",
    "from keras.models import Sequential\n",
    "from keras.layers import Dense, Flatten, Conv2D, MaxPooling2D, Dropout\n",
    "from keras.utils import to_categorical\n",
    "from keras.optimizers import SGD, RMSprop, adadelta, Adam\n",
    "\n",
    "from keras.preprocessing.image import ImageDataGenerator\n",
    "from keras.preprocessing.image import img_to_array\n",
    "from keras.callbacks import ModelCheckpoint\n",
    "\n",
    "from sklearn.model_selection import train_test_split"
   ]
  },
  {
   "cell_type": "code",
   "execution_count": 4,
   "metadata": {},
   "outputs": [
    {
     "name": "stdout",
     "output_type": "stream",
     "text": [
      "['Tomato___Target_Spot', 'Tomato___Spider_mites Two-spotted_spider_mite', 'Tomato___healthy', 'Tomato___Tomato_Yellow_Leaf_Curl_Virus', 'Tomato___Tomato_mosaic_virus', 'Tomato___Bacterial_spot', 'Tomato___Leaf_Mold', 'Tomato___Septoria_leaf_spot', 'Tomato___Late_blight', 'Tomato___Early_blight']\n"
     ]
    }
   ],
   "source": [
    "PATH = os.getcwd()\n",
    "data_path = './dataset'\n",
    "data_Dir_list = os.listdir(data_path)\n",
    "print(data_Dir_list)\n",
    "img_row = 64\n",
    "img_col = 64\n",
    "num_channel = 3\n",
    "epoch = 50\n",
    "num_classes = 10"
   ]
  },
  {
   "cell_type": "code",
   "execution_count": 3,
   "metadata": {},
   "outputs": [],
   "source": [
    "img_data_list = []\n",
    "images = []\n",
    "i = 0"
   ]
  },
  {
   "cell_type": "code",
   "execution_count": 4,
   "metadata": {},
   "outputs": [],
   "source": [
    "for dataset in data_Dir_list:\n",
    "    img_list = os.listdir(data_path + '/' + dataset)\n",
    "    for img in img_list:\n",
    "        i = i + 1\n",
    "        ip_img = cv2.imread(data_path + '/' + dataset + '/' + img)\n",
    "        #ip_img = cv2.cvtColor(ip_img, cv2.COLOR_BGR2GRAY)\n",
    "        ip_img = cv2.resize(ip_img, (img_row, img_col))\n",
    "        img_data_list.append(ip_img)\n",
    "    images.append(i)"
   ]
  },
  {
   "cell_type": "code",
   "execution_count": 5,
   "metadata": {},
   "outputs": [
    {
     "name": "stdout",
     "output_type": "stream",
     "text": [
      "[1404, 3080, 4671, 10028, 10401, 12528, 13480, 15251, 17160, 18160]\n"
     ]
    }
   ],
   "source": [
    "print(images)"
   ]
  },
  {
   "cell_type": "code",
   "execution_count": 27,
   "metadata": {},
   "outputs": [],
   "source": [
    "img_data = np.array(img_data_list)"
   ]
  },
  {
   "cell_type": "code",
   "execution_count": 28,
   "metadata": {},
   "outputs": [],
   "source": [
    "img_data = img_data / 255.0"
   ]
  },
  {
   "cell_type": "code",
   "execution_count": 29,
   "metadata": {},
   "outputs": [
    {
     "data": {
      "text/plain": [
       "(18160, 64, 64, 3)"
      ]
     },
     "execution_count": 29,
     "metadata": {},
     "output_type": "execute_result"
    }
   ],
   "source": [
    "img_data.shape"
   ]
  },
  {
   "cell_type": "code",
   "execution_count": 25,
   "metadata": {},
   "outputs": [],
   "source": [
    "img_data = np.expand_dims(img_data, axis=3)"
   ]
  },
  {
   "cell_type": "code",
   "execution_count": 30,
   "metadata": {},
   "outputs": [
    {
     "data": {
      "text/plain": [
       "(18160, 64, 64, 3)"
      ]
     },
     "execution_count": 30,
     "metadata": {},
     "output_type": "execute_result"
    }
   ],
   "source": [
    "img_data.shape"
   ]
  },
  {
   "cell_type": "code",
   "execution_count": 11,
   "metadata": {},
   "outputs": [],
   "source": [
    "n_samples = img_data.shape[0]\n",
    "labels = np.ones((n_samples,), dtype='int64')"
   ]
  },
  {
   "cell_type": "code",
   "execution_count": 12,
   "metadata": {},
   "outputs": [],
   "source": [
    "labels[:images[0]] = data_Dir_list.index(data_Dir_list[0])\n",
    "label_dictionary = {}\n",
    "label_dictionary[0] = data_Dir_list[0]"
   ]
  },
  {
   "cell_type": "code",
   "execution_count": 13,
   "metadata": {},
   "outputs": [],
   "source": [
    "count = 0\n",
    "for class_name in data_Dir_list:\n",
    "    if count == 0:\n",
    "        count += 1\n",
    "        continue\n",
    "    else:\n",
    "        labels[images[count - 1]:images[count]\n",
    "               ] = data_Dir_list.index(class_name)\n",
    "        label_dictionary[count] = class_name\n",
    "        count += 1"
   ]
  },
  {
   "cell_type": "code",
   "execution_count": 14,
   "metadata": {},
   "outputs": [
    {
     "data": {
      "text/plain": [
       "array([0, 0, 0, ..., 9, 9, 9])"
      ]
     },
     "execution_count": 14,
     "metadata": {},
     "output_type": "execute_result"
    }
   ],
   "source": [
    "labels"
   ]
  },
  {
   "cell_type": "code",
   "execution_count": 15,
   "metadata": {},
   "outputs": [
    {
     "data": {
      "text/plain": [
       "{0: 'Tomato___Target_Spot',\n",
       " 1: 'Tomato___Spider_mites Two-spotted_spider_mite',\n",
       " 2: 'Tomato___healthy',\n",
       " 3: 'Tomato___Tomato_Yellow_Leaf_Curl_Virus',\n",
       " 4: 'Tomato___Tomato_mosaic_virus',\n",
       " 5: 'Tomato___Bacterial_spot',\n",
       " 6: 'Tomato___Leaf_Mold',\n",
       " 7: 'Tomato___Septoria_leaf_spot',\n",
       " 8: 'Tomato___Late_blight',\n",
       " 9: 'Tomato___Early_blight'}"
      ]
     },
     "execution_count": 15,
     "metadata": {},
     "output_type": "execute_result"
    }
   ],
   "source": [
    "label_dictionary"
   ]
  },
  {
   "cell_type": "code",
   "execution_count": 16,
   "metadata": {},
   "outputs": [],
   "source": [
    "Y = to_categorical(labels, num_classes)"
   ]
  },
  {
   "cell_type": "code",
   "execution_count": 17,
   "metadata": {},
   "outputs": [
    {
     "data": {
      "text/plain": [
       "array([[1., 0., 0., ..., 0., 0., 0.],\n",
       "       [1., 0., 0., ..., 0., 0., 0.],\n",
       "       [1., 0., 0., ..., 0., 0., 0.],\n",
       "       ...,\n",
       "       [0., 0., 0., ..., 0., 0., 1.],\n",
       "       [0., 0., 0., ..., 0., 0., 1.],\n",
       "       [0., 0., 0., ..., 0., 0., 1.]], dtype=float32)"
      ]
     },
     "execution_count": 17,
     "metadata": {},
     "output_type": "execute_result"
    }
   ],
   "source": [
    "Y"
   ]
  },
  {
   "cell_type": "code",
   "execution_count": 31,
   "metadata": {},
   "outputs": [],
   "source": [
    "# Shuffle data\n",
    "from sklearn.utils import shuffle\n",
    "x, y = shuffle(img_data, Y, random_state=2)"
   ]
  },
  {
   "cell_type": "code",
   "execution_count": 32,
   "metadata": {},
   "outputs": [],
   "source": [
    "X_train, X_test, Y_train, Y_test = train_test_split(\n",
    "    x, y, test_size=0.20, random_state=2)"
   ]
  },
  {
   "cell_type": "code",
   "execution_count": 33,
   "metadata": {},
   "outputs": [],
   "source": [
    "datagen = ImageDataGenerator(\n",
    "    featurewise_center=False,  # set input mean to 0 over the dataset\n",
    "    samplewise_center=False,  # set each sample mean to 0\n",
    "    shear_range=0.2,\n",
    "    zoom_range=0.2,\n",
    "    featurewise_std_normalization=False,  # divide inputs by std of the dataset\n",
    "    samplewise_std_normalization=False,  # divide each input by its std\n",
    "    zca_whitening=False,  # apply ZCA whitening\n",
    "    # randomly rotate images in the range (degrees, 0 to 180)\n",
    "    rotation_range=15,\n",
    "    # randomly shift images horizontally (fraction of total width)\n",
    "    width_shift_range=0.2,\n",
    "    # randomly shift images vertically (fraction of total height)\n",
    "    height_shift_range=0.2,\n",
    "    horizontal_flip=True,  # randomly flip images\n",
    "    vertical_flip=True)  # randomly flip images"
   ]
  },
  {
   "cell_type": "code",
   "execution_count": 34,
   "metadata": {},
   "outputs": [],
   "source": [
    "datagen.fit(X_train)"
   ]
  },
  {
   "cell_type": "code",
   "execution_count": 40,
   "metadata": {},
   "outputs": [
    {
     "name": "stdout",
     "output_type": "stream",
     "text": [
      "_________________________________________________________________\n",
      "Layer (type)                 Output Shape              Param #   \n",
      "=================================================================\n",
      "conv2d_1 (Conv2D)            (None, 21, 21, 32)        896       \n",
      "_________________________________________________________________\n",
      "max_pooling2d_1 (MaxPooling2 (None, 10, 10, 32)        0         \n",
      "_________________________________________________________________\n",
      "dropout_1 (Dropout)          (None, 10, 10, 32)        0         \n",
      "_________________________________________________________________\n",
      "conv2d_2 (Conv2D)            (None, 8, 8, 64)          18496     \n",
      "_________________________________________________________________\n",
      "max_pooling2d_2 (MaxPooling2 (None, 4, 4, 64)          0         \n",
      "_________________________________________________________________\n",
      "dropout_2 (Dropout)          (None, 4, 4, 64)          0         \n",
      "_________________________________________________________________\n",
      "conv2d_3 (Conv2D)            (None, 2, 2, 128)         73856     \n",
      "_________________________________________________________________\n",
      "dropout_3 (Dropout)          (None, 2, 2, 128)         0         \n",
      "_________________________________________________________________\n",
      "flatten_1 (Flatten)          (None, 512)               0         \n",
      "_________________________________________________________________\n",
      "dense_1 (Dense)              (None, 312)               160056    \n",
      "_________________________________________________________________\n",
      "dropout_4 (Dropout)          (None, 312)               0         \n",
      "_________________________________________________________________\n",
      "dense_2 (Dense)              (None, 10)                3130      \n",
      "=================================================================\n",
      "Total params: 256,434\n",
      "Trainable params: 256,434\n",
      "Non-trainable params: 0\n",
      "_________________________________________________________________\n"
     ]
    }
   ],
   "source": [
    "tf.reset_default_graph()\n",
    "model = Sequential()\n",
    "model.add(Conv2D(32, (3, 3), strides=(3, 3),\n",
    "                 activation='relu', input_shape=(img_row, img_col, 3)))\n",
    "model.add(MaxPooling2D(pool_size=(2, 2)))\n",
    "model.add(Dropout(0.5))\n",
    "model.add(Conv2D(64, (3, 3), strides=(1, 1), activation='relu'))\n",
    "model.add(MaxPooling2D(pool_size=(2, 2)))\n",
    "model.add(Dropout(0.5))\n",
    "model.add(Conv2D(128, (3, 3), activation='relu'))\n",
    "model.add(Dropout(0.5))\n",
    "model.add(Flatten())\n",
    "model.add(Dense(312, activation='relu'))\n",
    "model.add(Dropout(0.3))\n",
    "model.add(Dense(10, activation='softmax'))\n",
    "model.compile(loss='categorical_crossentropy',\n",
    "              optimizer='adam', metrics=['accuracy'])\n",
    "model.summary()"
   ]
  },
  {
   "cell_type": "code",
   "execution_count": 41,
   "metadata": {},
   "outputs": [],
   "source": [
    "augmented_checkpoint = ModelCheckpoint('augmented_best_model.hdf5',  # model filename\n",
    "                                       monitor='val_loss',  # quantity to monitor\n",
    "                                       verbose=1,  # verbosity - 0 or 1\n",
    "                                       save_best_only=True,  # The latest best model will not be overwritten\n",
    "                                       mode='auto')  # The decision to overwrite model is made\n",
    "# automatically depending on the quantity to monitor"
   ]
  },
  {
   "cell_type": "code",
   "execution_count": 42,
   "metadata": {},
   "outputs": [],
   "source": [
    "model.compile(loss=keras.losses.categorical_crossentropy,  # Better loss function for neural networks\n",
    "              optimizer=keras.optimizers.Adam(),  # Adam optimizer with 1.0e-4 learning rate\n",
    "              metrics=['accuracy'])  # Metrics to be evaluated by the model\n"
   ]
  },
  {
   "cell_type": "code",
   "execution_count": 43,
   "metadata": {},
   "outputs": [
    {
     "name": "stdout",
     "output_type": "stream",
     "text": [
      "Epoch 1/50\n",
      "114/114 [==============================] - 47s 415ms/step - loss: 1.9459 - acc: 0.3335 - val_loss: 1.7559 - val_acc: 0.3736\n",
      "\n",
      "Epoch 00001: val_loss improved from inf to 1.75593, saving model to augmented_best_model.hdf5\n",
      "Epoch 2/50\n",
      "114/114 [==============================] - 14s 123ms/step - loss: 1.6712 - acc: 0.4205 - val_loss: 1.3764 - val_acc: 0.5162\n",
      "\n",
      "Epoch 00002: val_loss improved from 1.75593 to 1.37644, saving model to augmented_best_model.hdf5\n",
      "Epoch 3/50\n",
      "114/114 [==============================] - 14s 123ms/step - loss: 1.4550 - acc: 0.4911 - val_loss: 1.2455 - val_acc: 0.5504\n",
      "\n",
      "Epoch 00003: val_loss improved from 1.37644 to 1.24545, saving model to augmented_best_model.hdf5\n",
      "Epoch 4/50\n",
      "114/114 [==============================] - 14s 125ms/step - loss: 1.3513 - acc: 0.5263 - val_loss: 1.1399 - val_acc: 0.5787\n",
      "\n",
      "Epoch 00004: val_loss improved from 1.24545 to 1.13995, saving model to augmented_best_model.hdf5\n",
      "Epoch 5/50\n",
      "114/114 [==============================] - 14s 125ms/step - loss: 1.2450 - acc: 0.5705 - val_loss: 0.9956 - val_acc: 0.6410\n",
      "\n",
      "Epoch 00005: val_loss improved from 1.13995 to 0.99561, saving model to augmented_best_model.hdf5\n",
      "Epoch 6/50\n",
      "114/114 [==============================] - 14s 126ms/step - loss: 1.1627 - acc: 0.5972 - val_loss: 0.9643 - val_acc: 0.6583\n",
      "\n",
      "Epoch 00006: val_loss improved from 0.99561 to 0.96432, saving model to augmented_best_model.hdf5\n",
      "Epoch 7/50\n",
      "114/114 [==============================] - 14s 125ms/step - loss: 1.0937 - acc: 0.6164 - val_loss: 0.9027 - val_acc: 0.6823\n",
      "\n",
      "Epoch 00007: val_loss improved from 0.96432 to 0.90270, saving model to augmented_best_model.hdf5\n",
      "Epoch 8/50\n",
      "114/114 [==============================] - 14s 125ms/step - loss: 1.0551 - acc: 0.6329 - val_loss: 0.8565 - val_acc: 0.6952\n",
      "\n",
      "Epoch 00008: val_loss improved from 0.90270 to 0.85648, saving model to augmented_best_model.hdf5\n",
      "Epoch 9/50\n",
      "114/114 [==============================] - 14s 125ms/step - loss: 1.0227 - acc: 0.6408 - val_loss: 0.9268 - val_acc: 0.6680\n",
      "\n",
      "Epoch 00009: val_loss did not improve from 0.85648\n",
      "Epoch 10/50\n",
      "114/114 [==============================] - 14s 126ms/step - loss: 0.9795 - acc: 0.6586 - val_loss: 0.8568 - val_acc: 0.6944\n",
      "\n",
      "Epoch 00010: val_loss did not improve from 0.85648\n",
      "Epoch 11/50\n",
      "114/114 [==============================] - 14s 126ms/step - loss: 0.9552 - acc: 0.6691 - val_loss: 0.7599 - val_acc: 0.7241\n",
      "\n",
      "Epoch 00011: val_loss improved from 0.85648 to 0.75986, saving model to augmented_best_model.hdf5\n",
      "Epoch 12/50\n",
      "114/114 [==============================] - 14s 126ms/step - loss: 0.9327 - acc: 0.6737 - val_loss: 0.7571 - val_acc: 0.7335\n",
      "\n",
      "Epoch 00012: val_loss improved from 0.75986 to 0.75714, saving model to augmented_best_model.hdf5\n",
      "Epoch 13/50\n",
      "114/114 [==============================] - 14s 126ms/step - loss: 0.9291 - acc: 0.6744 - val_loss: 0.7577 - val_acc: 0.7404\n",
      "\n",
      "Epoch 00013: val_loss did not improve from 0.75714\n",
      "Epoch 14/50\n",
      "114/114 [==============================] - 14s 126ms/step - loss: 0.9129 - acc: 0.6804 - val_loss: 0.8220 - val_acc: 0.7084\n",
      "\n",
      "Epoch 00014: val_loss did not improve from 0.75714\n",
      "Epoch 15/50\n",
      "114/114 [==============================] - 14s 127ms/step - loss: 0.8879 - acc: 0.6881 - val_loss: 0.8367 - val_acc: 0.7081\n",
      "\n",
      "Epoch 00015: val_loss did not improve from 0.75714\n",
      "Epoch 16/50\n",
      "114/114 [==============================] - 14s 125ms/step - loss: 0.8804 - acc: 0.6911 - val_loss: 0.6788 - val_acc: 0.7616\n",
      "\n",
      "Epoch 00016: val_loss improved from 0.75714 to 0.67880, saving model to augmented_best_model.hdf5\n",
      "Epoch 17/50\n",
      "114/114 [==============================] - 14s 126ms/step - loss: 0.8658 - acc: 0.6942 - val_loss: 0.8105 - val_acc: 0.7214\n",
      "\n",
      "Epoch 00017: val_loss did not improve from 0.67880\n",
      "Epoch 18/50\n",
      "114/114 [==============================] - 14s 127ms/step - loss: 0.8467 - acc: 0.7053 - val_loss: 0.7427 - val_acc: 0.7426\n",
      "\n",
      "Epoch 00018: val_loss did not improve from 0.67880\n",
      "Epoch 19/50\n",
      "114/114 [==============================] - 14s 125ms/step - loss: 0.8498 - acc: 0.6994 - val_loss: 0.8361 - val_acc: 0.7175\n",
      "\n",
      "Epoch 00019: val_loss did not improve from 0.67880\n",
      "Epoch 20/50\n",
      "114/114 [==============================] - 14s 126ms/step - loss: 0.8332 - acc: 0.7070 - val_loss: 0.7279 - val_acc: 0.7346\n",
      "\n",
      "Epoch 00020: val_loss did not improve from 0.67880\n",
      "Epoch 21/50\n",
      "114/114 [==============================] - 14s 126ms/step - loss: 0.8108 - acc: 0.7141 - val_loss: 0.7485 - val_acc: 0.7384\n",
      "\n",
      "Epoch 00021: val_loss did not improve from 0.67880\n",
      "Epoch 22/50\n",
      "114/114 [==============================] - 15s 128ms/step - loss: 0.8055 - acc: 0.7176 - val_loss: 0.7117 - val_acc: 0.7459\n",
      "\n",
      "Epoch 00022: val_loss did not improve from 0.67880\n",
      "Epoch 23/50\n",
      "114/114 [==============================] - 14s 126ms/step - loss: 0.8086 - acc: 0.7111 - val_loss: 0.7502 - val_acc: 0.7472\n",
      "\n",
      "Epoch 00023: val_loss did not improve from 0.67880\n",
      "Epoch 24/50\n",
      "114/114 [==============================] - 14s 126ms/step - loss: 0.7999 - acc: 0.7157 - val_loss: 0.7163 - val_acc: 0.7539\n",
      "\n",
      "Epoch 00024: val_loss did not improve from 0.67880\n",
      "Epoch 25/50\n",
      "114/114 [==============================] - 14s 126ms/step - loss: 0.7765 - acc: 0.7248 - val_loss: 0.6449 - val_acc: 0.7734\n",
      "\n",
      "Epoch 00025: val_loss improved from 0.67880 to 0.64492, saving model to augmented_best_model.hdf5\n",
      "Epoch 26/50\n",
      "114/114 [==============================] - 14s 124ms/step - loss: 0.7788 - acc: 0.7266 - val_loss: 0.6650 - val_acc: 0.7709\n",
      "\n",
      "Epoch 00026: val_loss did not improve from 0.64492\n",
      "Epoch 27/50\n",
      "114/114 [==============================] - 14s 127ms/step - loss: 0.7618 - acc: 0.7331 - val_loss: 0.6754 - val_acc: 0.7574\n",
      "\n",
      "Epoch 00027: val_loss did not improve from 0.64492\n",
      "Epoch 28/50\n",
      "114/114 [==============================] - 14s 125ms/step - loss: 0.7723 - acc: 0.7246 - val_loss: 0.7822 - val_acc: 0.7321\n",
      "\n",
      "Epoch 00028: val_loss did not improve from 0.64492\n",
      "Epoch 29/50\n",
      "114/114 [==============================] - 14s 126ms/step - loss: 0.7654 - acc: 0.7311 - val_loss: 0.7435 - val_acc: 0.7483\n",
      "\n",
      "Epoch 00029: val_loss did not improve from 0.64492\n",
      "Epoch 30/50\n",
      "114/114 [==============================] - 14s 126ms/step - loss: 0.7428 - acc: 0.7368 - val_loss: 0.6273 - val_acc: 0.7825\n",
      "\n",
      "Epoch 00030: val_loss improved from 0.64492 to 0.62730, saving model to augmented_best_model.hdf5\n",
      "Epoch 31/50\n",
      "114/114 [==============================] - 14s 127ms/step - loss: 0.7541 - acc: 0.7327 - val_loss: 0.6574 - val_acc: 0.7607\n",
      "\n",
      "Epoch 00031: val_loss did not improve from 0.62730\n",
      "Epoch 32/50\n",
      "114/114 [==============================] - 14s 125ms/step - loss: 0.7403 - acc: 0.7343 - val_loss: 0.5799 - val_acc: 0.7968\n",
      "\n",
      "Epoch 00032: val_loss improved from 0.62730 to 0.57994, saving model to augmented_best_model.hdf5\n",
      "Epoch 33/50\n",
      "114/114 [==============================] - 14s 126ms/step - loss: 0.7417 - acc: 0.7352 - val_loss: 0.5784 - val_acc: 0.7907\n",
      "\n",
      "Epoch 00033: val_loss improved from 0.57994 to 0.57836, saving model to augmented_best_model.hdf5\n",
      "Epoch 34/50\n",
      "114/114 [==============================] - 14s 126ms/step - loss: 0.7100 - acc: 0.7486 - val_loss: 0.7581 - val_acc: 0.7459\n",
      "\n",
      "Epoch 00034: val_loss did not improve from 0.57836\n",
      "Epoch 35/50\n",
      "114/114 [==============================] - 14s 126ms/step - loss: 0.7254 - acc: 0.7400 - val_loss: 0.5734 - val_acc: 0.7965\n",
      "\n",
      "Epoch 00035: val_loss improved from 0.57836 to 0.57341, saving model to augmented_best_model.hdf5\n",
      "Epoch 36/50\n",
      "114/114 [==============================] - 15s 127ms/step - loss: 0.7244 - acc: 0.7431 - val_loss: 0.5305 - val_acc: 0.8100\n",
      "\n",
      "Epoch 00036: val_loss improved from 0.57341 to 0.53052, saving model to augmented_best_model.hdf5\n",
      "Epoch 37/50\n",
      "114/114 [==============================] - 14s 125ms/step - loss: 0.7160 - acc: 0.7459 - val_loss: 0.5396 - val_acc: 0.8059\n",
      "\n",
      "Epoch 00037: val_loss did not improve from 0.53052\n",
      "Epoch 38/50\n",
      "114/114 [==============================] - 14s 125ms/step - loss: 0.7108 - acc: 0.7459 - val_loss: 0.5670 - val_acc: 0.7976\n",
      "\n",
      "Epoch 00038: val_loss did not improve from 0.53052\n",
      "Epoch 39/50\n",
      "114/114 [==============================] - 14s 126ms/step - loss: 0.7133 - acc: 0.7490 - val_loss: 0.5772 - val_acc: 0.7957\n",
      "\n",
      "Epoch 00039: val_loss did not improve from 0.53052\n",
      "Epoch 40/50\n",
      "114/114 [==============================] - 14s 124ms/step - loss: 0.6995 - acc: 0.7517 - val_loss: 0.6695 - val_acc: 0.7679\n",
      "\n",
      "Epoch 00040: val_loss did not improve from 0.53052\n",
      "Epoch 41/50\n",
      "114/114 [==============================] - 14s 124ms/step - loss: 0.7108 - acc: 0.7479 - val_loss: 0.5807 - val_acc: 0.7965\n",
      "\n",
      "Epoch 00041: val_loss did not improve from 0.53052\n",
      "Epoch 42/50\n",
      "114/114 [==============================] - 14s 124ms/step - loss: 0.7015 - acc: 0.7473 - val_loss: 0.6133 - val_acc: 0.7825\n",
      "\n",
      "Epoch 00042: val_loss did not improve from 0.53052\n",
      "Epoch 43/50\n",
      "114/114 [==============================] - 14s 125ms/step - loss: 0.7117 - acc: 0.7499 - val_loss: 0.6674 - val_acc: 0.7602\n",
      "\n",
      "Epoch 00043: val_loss did not improve from 0.53052\n",
      "Epoch 44/50\n",
      "114/114 [==============================] - 14s 126ms/step - loss: 0.7009 - acc: 0.7503 - val_loss: 0.5242 - val_acc: 0.8081\n",
      "\n",
      "Epoch 00044: val_loss improved from 0.53052 to 0.52418, saving model to augmented_best_model.hdf5\n",
      "Epoch 45/50\n",
      "114/114 [==============================] - 14s 125ms/step - loss: 0.6961 - acc: 0.7497 - val_loss: 0.5647 - val_acc: 0.7996\n",
      "\n",
      "Epoch 00045: val_loss did not improve from 0.52418\n",
      "Epoch 46/50\n",
      "114/114 [==============================] - 14s 127ms/step - loss: 0.6753 - acc: 0.7584 - val_loss: 0.5531 - val_acc: 0.8045\n",
      "\n",
      "Epoch 00046: val_loss did not improve from 0.52418\n",
      "Epoch 47/50\n",
      "114/114 [==============================] - 15s 129ms/step - loss: 0.7048 - acc: 0.7489 - val_loss: 0.6398 - val_acc: 0.7723\n",
      "\n",
      "Epoch 00047: val_loss did not improve from 0.52418\n",
      "Epoch 48/50\n",
      "114/114 [==============================] - 15s 129ms/step - loss: 0.6871 - acc: 0.7552 - val_loss: 0.6623 - val_acc: 0.7676\n",
      "\n",
      "Epoch 00048: val_loss did not improve from 0.52418\n",
      "Epoch 49/50\n",
      "114/114 [==============================] - 15s 131ms/step - loss: 0.6914 - acc: 0.7540 - val_loss: 0.6791 - val_acc: 0.7662\n",
      "\n",
      "Epoch 00049: val_loss did not improve from 0.52418\n",
      "Epoch 50/50\n",
      "114/114 [==============================] - 15s 131ms/step - loss: 0.6774 - acc: 0.7623 - val_loss: 0.6524 - val_acc: 0.7726\n",
      "\n",
      "Epoch 00050: val_loss did not improve from 0.52418\n"
     ]
    }
   ],
   "source": [
    "hist = model.fit_generator(datagen.flow(X_train, Y_train, batch_size=128),  # number of samples per gradient update\n",
    "                           epochs=epoch,  # number of iterations\n",
    "                           validation_data=(X_test, Y_test),\n",
    "                           callbacks=[augmented_checkpoint],\n",
    "                           verbose=1,\n",
    "                           shuffle=True)"
   ]
  },
  {
   "cell_type": "code",
   "execution_count": 45,
   "metadata": {},
   "outputs": [],
   "source": [
    "import pickle\n",
    "\n",
    "with open('./model/history', 'wb') as file_pi:\n",
    "    pickle.dump(hist.history, file_pi)\n",
    "\n",
    "model.save('./model/model.hdf5')"
   ]
  },
  {
   "cell_type": "code",
   "execution_count": 48,
   "metadata": {},
   "outputs": [],
   "source": [
    "H = hist"
   ]
  },
  {
   "cell_type": "code",
   "execution_count": 50,
   "metadata": {},
   "outputs": [
    {
     "data": {
      "image/png": "[encoded data removed]",
      "text/plain": [
       "<Figure size 432x288 with 1 Axes>"
      ]
     },
     "metadata": {},
     "output_type": "display_data"
    }
   ],
   "source": [
    "# plot the training loss and accuracy\n",
    "plt.style.use(\"ggplot\")\n",
    "plt.figure()\n",
    "N = 50\n",
    "plt.plot(np.arange(0, N), H.history[\"loss\"], label=\"train_loss\")\n",
    "plt.plot(np.arange(0, N), H.history[\"val_loss\"], label=\"val_loss\")\n",
    "plt.plot(np.arange(0, N), H.history[\"acc\"], label=\"train_acc\")\n",
    "plt.plot(np.arange(0, N), H.history[\"val_acc\"], label=\"val_acc\")\n",
    "plt.title(\"Training Loss and Accuracy\")\n",
    "plt.xlabel(\"Epoch #\")\n",
    "plt.ylabel(\"Loss/Accuracy\")\n",
    "plt.legend(loc=\"upper left\")\n",
    "plt.savefig(\"plant_disease.png\")"
   ]
  },
  {
   "cell_type": "code",
   "execution_count": 7,
   "metadata": {},
   "outputs": [],
   "source": [
    "# import the necessary packages\n",
    "from keras.preprocessing.image import img_to_array\n",
    "from keras.models import load_model\n",
    "import numpy as np\n",
    "import argparse\n",
    "#import imutils\n",
    "import pickle\n",
    "import cv2\n",
    "import os\n",
    "import matplotlib.pyplot as plt"
   ]
  },
  {
   "cell_type": "code",
   "execution_count": 5,
   "metadata": {},
   "outputs": [
    {
     "name": "stdout",
     "output_type": "stream",
     "text": [
      "_________________________________________________________________\n",
      "Layer (type)                 Output Shape              Param #   \n",
      "=================================================================\n",
      "conv2d_1 (Conv2D)            (None, 21, 21, 32)        896       \n",
      "_________________________________________________________________\n",
      "max_pooling2d_1 (MaxPooling2 (None, 10, 10, 32)        0         \n",
      "_________________________________________________________________\n",
      "dropout_1 (Dropout)          (None, 10, 10, 32)        0         \n",
      "_________________________________________________________________\n",
      "conv2d_2 (Conv2D)            (None, 8, 8, 64)          18496     \n",
      "_________________________________________________________________\n",
      "max_pooling2d_2 (MaxPooling2 (None, 4, 4, 64)          0         \n",
      "_________________________________________________________________\n",
      "dropout_2 (Dropout)          (None, 4, 4, 64)          0         \n",
      "_________________________________________________________________\n",
      "conv2d_3 (Conv2D)            (None, 2, 2, 128)         73856     \n",
      "_________________________________________________________________\n",
      "dropout_3 (Dropout)          (None, 2, 2, 128)         0         \n",
      "_________________________________________________________________\n",
      "flatten_1 (Flatten)          (None, 512)               0         \n",
      "_________________________________________________________________\n",
      "dense_1 (Dense)              (None, 312)               160056    \n",
      "_________________________________________________________________\n",
      "dropout_4 (Dropout)          (None, 312)               0         \n",
      "_________________________________________________________________\n",
      "dense_2 (Dense)              (None, 10)                3130      \n",
      "=================================================================\n",
      "Total params: 256,434\n",
      "Trainable params: 256,434\n",
      "Non-trainable params: 0\n",
      "_________________________________________________________________\n"
     ]
    }
   ],
   "source": [
    "model = Sequential()\n",
    "model.add(Conv2D(32, (3, 3), strides=(3, 3),\n",
    "                 activation='relu', input_shape=(img_row, img_col, 3)))\n",
    "model.add(MaxPooling2D(pool_size=(2, 2)))\n",
    "model.add(Dropout(0.5))\n",
    "model.add(Conv2D(64, (3, 3), strides=(1, 1), activation='relu'))\n",
    "model.add(MaxPooling2D(pool_size=(2, 2)))\n",
    "model.add(Dropout(0.5))\n",
    "model.add(Conv2D(128, (3, 3), activation='relu'))\n",
    "model.add(Dropout(0.5))\n",
    "model.add(Flatten())\n",
    "model.add(Dense(312, activation='relu'))\n",
    "model.add(Dropout(0.3))\n",
    "model.add(Dense(10, activation='softmax'))\n",
    "model.compile(loss='categorical_crossentropy',\n",
    "              optimizer='adam', metrics=['accuracy'])\n",
    "model.summary()"
   ]
  },
  {
   "cell_type": "code",
   "execution_count": 13,
   "metadata": {},
   "outputs": [
    {
     "name": "stdout",
     "output_type": "stream",
     "text": [
      "[INFO] loading network...\n"
     ]
    },
    {
     "ename": "UnpicklingError",
     "evalue": "invalid load key, 'H'.",
     "output_type": "error",
     "traceback": [
      "\u001b[0;31m---------------------------------------------------------------------------\u001b[0m",
      "\u001b[0;31mUnpicklingError\u001b[0m                           Traceback (most recent call last)",
      "\u001b[0;32m<ipython-input-13-3ea8e87d9113>\u001b[0m in \u001b[0;36m<module>\u001b[0;34m()\u001b[0m\n\u001b[1;32m     17\u001b[0m \u001b[0mprint\u001b[0m\u001b[0;34m(\u001b[0m\u001b[0;34m\"[INFO] loading network...\"\u001b[0m\u001b[0;34m)\u001b[0m\u001b[0;34m\u001b[0m\u001b[0m\n\u001b[1;32m     18\u001b[0m \u001b[0;31m#model = load_model(model_path)\u001b[0m\u001b[0;34m\u001b[0m\u001b[0;34m\u001b[0m\u001b[0m\n\u001b[0;32m---> 19\u001b[0;31m \u001b[0mlb\u001b[0m \u001b[0;34m=\u001b[0m \u001b[0mpickle\u001b[0m\u001b[0;34m.\u001b[0m\u001b[0mload\u001b[0m\u001b[0;34m(\u001b[0m\u001b[0mopen\u001b[0m\u001b[0;34m(\u001b[0m\u001b[0;34m'augmented_best_model.hdf5'\u001b[0m\u001b[0;34m,\u001b[0m \u001b[0;34m\"rb\"\u001b[0m\u001b[0;34m)\u001b[0m\u001b[0;34m)\u001b[0m\u001b[0;34m\u001b[0m\u001b[0m\n\u001b[0m\u001b[1;32m     20\u001b[0m \u001b[0;34m\u001b[0m\u001b[0m\n\u001b[1;32m     21\u001b[0m \u001b[0;31m# classify the input image\u001b[0m\u001b[0;34m\u001b[0m\u001b[0;34m\u001b[0m\u001b[0m\n",
      "\u001b[0;31mUnpicklingError\u001b[0m: invalid load key, 'H'."
     ]
    }
   ],
   "source": [
    "image_path = \"sample.jpg\"\n",
    "#model_path = \"plant_disease.model\"\n",
    "#binarizer_path = \"plant_disease.pickle\"\n",
    "\n",
    "# load the image\n",
    "image = cv2.imread(image_path)\n",
    "output = image.copy()\n",
    " \n",
    "# pre-process the image for classification\n",
    "image = cv2.resize(image, (64, 64))\n",
    "image = image.astype(\"float\") / 255.0\n",
    "image = img_to_array(image)\n",
    "image = np.expand_dims(image, axis=0)\n",
    "\n",
    "# load the trained convolutional neural network and the label\n",
    "# binarizer\n",
    "print(\"[INFO] loading network...\")\n",
    "#model = load_model(model_path)\n",
    "lb = pickle.load(open('augmented_best_model.hdf5', \"rb\"))\n",
    "\n",
    "# classify the input image\n",
    "print(\"[INFO] classifying image...\")\n",
    "proba = model.predict(image)[0]\n",
    "idx = np.argmax(proba)\n",
    "label = lb.classes_[idx]\n",
    "cv2.putText(output, label, (10, 25),  cv2.FONT_HERSHEY_SIMPLEX,\n",
    "\t0.7, (0, 255, 0), 2)\n",
    "cv2.putText(output, str(np.max(proba)), (10, 55),  cv2.FONT_HERSHEY_SIMPLEX,\n",
    "\t0.7, (255, 0, 0), 2)\n",
    "\n",
    "\n",
    "# show the output image\n",
    "print(\"[INFO] class followed by probability...\")\n",
    "plt.imshow(output)"
   ]
  },
  {
   "cell_type": "code",
   "execution_count": null,
   "metadata": {},
   "outputs": [],
   "source": []
  }
 ],
 "metadata": {
  "kernelspec": {
   "display_name": "Python 3",
   "language": "python",
   "name": "python3"
  },
  "language_info": {
   "codemirror_mode": {
    "name": "ipython",
    "version": 3
   },
   "file_extension": ".py",
   "mimetype": "text/x-python",
   "name": "python",
   "nbconvert_exporter": "python",
   "pygments_lexer": "ipython3",
   "version": "3.5.2"
  }
 },
 "nbformat": 4,
 "nbformat_minor": 2
}
